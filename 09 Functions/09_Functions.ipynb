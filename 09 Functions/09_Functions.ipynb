{
 "cells": [
  {
   "cell_type": "markdown",
   "metadata": {},
   "source": [
    "# Python Fundamentals 9: Functions\n",
    "\n",
    "This is yet another part of Python that we haven't touched on a great deal but used an awful lot so far. You can think of a function as a block of code that runs together whenever we call its name. We can pass variables/data to functions to use and these pieces of information are called _parameters._ A function can do things and return nothing or return something, which could be any data type (string, number, boolean, list, ...)."
   ]
  },
  {
   "cell_type": "code",
   "execution_count": 33,
   "metadata": {},
   "outputs": [
    {
     "name": "stdout",
     "output_type": "stream",
     "text": [
      "Hello world, from my_first_function!\n"
     ]
    }
   ],
   "source": [
    "# Example- hello world from a function\n",
    "\n",
    "# Define the function\n",
    "def my_first_function():\n",
    "    print(\"Hello world, from my_first_function!\")\n",
    "    \n",
    "# Call the function to get it to run\n",
    "my_first_function()"
   ]
  },
  {
   "cell_type": "code",
   "execution_count": 34,
   "metadata": {},
   "outputs": [
    {
     "name": "stdout",
     "output_type": "stream",
     "text": [
      "Hello, Benedikt!\n"
     ]
    }
   ],
   "source": [
    "# Example - hello to me from a function\n",
    "\n",
    "# Define the function\n",
    "def say_hello(name) :\n",
    "    print(\"Hello, {}!\".format(name)) # Notice this .format() is similar to using f\"...\"\n",
    "    \n",
    "say_hello(\"Benedikt\")"
   ]
  },
  {
   "cell_type": "markdown",
   "metadata": {},
   "source": [
    "In the second example, we saw a function `say_hello()` receive a parameter `name`, which ended up being a string (someone's name). We can give functions any parameters (also sometimes called arguments) it needs to run the code we've written. We can even have more than one parameter being passed to a function, and we don't even need to specify how many arguments we provide (this is a useful attribute of Python functions)."
   ]
  },
  {
   "cell_type": "code",
   "execution_count": 35,
   "metadata": {},
   "outputs": [
    {
     "name": "stdout",
     "output_type": "stream",
     "text": [
      "The fruits you provided are:\n",
      "apple\n",
      "orange\n",
      "banana\n"
     ]
    }
   ],
   "source": [
    "# Example - unknown number of arguments\n",
    "\n",
    "def fruit(*fruits) :\n",
    "    print(\"The fruits you provided are:\")\n",
    "    for x in fruits :\n",
    "          print(x)\n",
    "    \n",
    "fruit(\"apple\", \"orange\", \"banana\")"
   ]
  },
  {
   "cell_type": "markdown",
   "metadata": {},
   "source": [
    "Another very handy feature of functions in Python is the ability to assign a default parameter value. That means if we don't give the function anything as a parameter, it knows to default to the value we gave it."
   ]
  },
  {
   "cell_type": "code",
   "execution_count": 36,
   "metadata": {},
   "outputs": [
    {
     "name": "stdout",
     "output_type": "stream",
     "text": [
      "There is no legal drinking age in Belgium.\n",
      "The legal drinking age in United States is 21.\n",
      "The legal drinking age in the UK is 18.\n"
     ]
    }
   ],
   "source": [
    "# Example - default parameter value\n",
    "\n",
    "def drinking_age(country = \"the UK\", age = 18) :\n",
    "    if age > 0:\n",
    "        print(f\"The legal drinking age in {country} is {age}.\")\n",
    "    else :\n",
    "        print(f\"There is no legal drinking age in {country}.\")\n",
    "    \n",
    "drinking_age(\"Belgium\", 0)\n",
    "drinking_age(\"United States\", 21)\n",
    "drinking_age()"
   ]
  },
  {
   "cell_type": "markdown",
   "metadata": {},
   "source": [
    "## Return Value\n",
    "\n",
    "Often, we want to pass an input to a function and get something back out. This is called returning a value, and we use the keyword `return` to achieve this."
   ]
  },
  {
   "cell_type": "code",
   "execution_count": 37,
   "metadata": {},
   "outputs": [
    {
     "name": "stdout",
     "output_type": "stream",
     "text": [
      "Five squared is 25\n"
     ]
    }
   ],
   "source": [
    "# Example - returning a result\n",
    "\n",
    "# Function to square the number given to it\n",
    "def square(x) :\n",
    "    return x * x\n",
    "\n",
    "five_squared = square(5)\n",
    "print(f\"Five squared is {five_squared}\")"
   ]
  },
  {
   "cell_type": "markdown",
   "metadata": {},
   "source": [
    "## Recursion\n",
    "\n",
    "Recursion is both one of the hardest and one of the most useful things you can get to grips with in programming. Recursion is a common concept in maths and programming and a function being _recursive_ means a function that calls itself. This means that yuou can loop through data to reach a result while keeping your code pretty simple and lightweight.\n",
    "\n",
    "As with loops, recursion takes us close to the edge of infinite loops, so you should always think through recursive code and ensure that it will always break somewhere. In the below example, we define a function that calls itself. This function uses a variable `k` as the data, which decreases by 1 each time we recurse. Then, the recursion ends when the condition reaches 0. As I mentioned, this is a very tricky concept so try and understand this example by playing around and changing values, but don't spend too long looking at it. Come back later and try again if you don't get it straight away, and better yet try the exercises on recursion in the accompanying exercises notebook."
   ]
  },
  {
   "cell_type": "code",
   "execution_count": 38,
   "metadata": {},
   "outputs": [
    {
     "name": "stdout",
     "output_type": "stream",
     "text": [
      "Recursion Example Results\n",
      "1\n",
      "3\n",
      "6\n",
      "10\n",
      "15\n",
      "21\n",
      "Result: 21\n"
     ]
    }
   ],
   "source": [
    "def tri_recursion(k):\n",
    "    if(k > 0):\n",
    "        result = k + tri_recursion(k - 1)\n",
    "        print(result)\n",
    "    else:\n",
    "        result = 0\n",
    "    return result\n",
    "\n",
    "print(\"Recursion Example Results\")\n",
    "print(f\"Result: {tri_recursion(6)}\")"
   ]
  },
  {
   "cell_type": "markdown",
   "metadata": {},
   "source": [
    "## Lambda Functions\n",
    "\n",
    "Lambda functions are very helpful little functions that start off easy to understand but prove pretty tricky to implement. Let's start with an example, the identity function. This function's purpose in life is to return the parameter given to it. Below, you'll see that function written in the usual way and then written as a lambda function."
   ]
  },
  {
   "cell_type": "code",
   "execution_count": 39,
   "metadata": {},
   "outputs": [
    {
     "name": "stdout",
     "output_type": "stream",
     "text": [
      "Hello\n",
      "Hello\n"
     ]
    }
   ],
   "source": [
    "# Example - Identity function\n",
    "\n",
    "# Written normally\n",
    "def identity(x) :\n",
    "    return x\n",
    "\n",
    "# As a lambda function\n",
    "result = lambda x: x\n",
    "\n",
    "print(identity(\"Hello\"))\n",
    "print(result(\"Hello\"))"
   ]
  },
  {
   "cell_type": "markdown",
   "metadata": {},
   "source": [
    "### Why?\n",
    "\n",
    "By this point, you're likely wondering why we might bother using lambda functions. The utility of lambdas is best shown when they're used as an anonymous (not named) function inside of another normal function, which we'll see later on. This section was just to make you aware of lambdas and promise you they are very useful!"
   ]
  },
  {
   "cell_type": "code",
   "execution_count": null,
   "metadata": {},
   "outputs": [],
   "source": []
  }
 ],
 "metadata": {
  "kernelspec": {
   "display_name": "Python 3",
   "language": "python",
   "name": "python3"
  },
  "language_info": {
   "codemirror_mode": {
    "name": "ipython",
    "version": 3
   },
   "file_extension": ".py",
   "mimetype": "text/x-python",
   "name": "python",
   "nbconvert_exporter": "python",
   "pygments_lexer": "ipython3",
   "version": "3.8.5"
  }
 },
 "nbformat": 4,
 "nbformat_minor": 4
}
