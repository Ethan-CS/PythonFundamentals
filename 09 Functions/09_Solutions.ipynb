{
 "cells": [
  {
   "cell_type": "markdown",
   "metadata": {},
   "source": [
    "# Exercises 9: Functions\n",
    "\n",
    "There are some tricky questions in here - don't be afraid to ask for help. You might find it useful to work out a rough structure or process on paper before going to code.\n",
    "\n",
    "## Task 1: Regular functions\n",
    "\n",
    "1. Write a function to find the maximum of three numbers"
   ]
  },
  {
   "cell_type": "code",
   "execution_count": 14,
   "metadata": {},
   "outputs": [
    {
     "name": "stdout",
     "output_type": "stream",
     "text": [
      "67\n"
     ]
    }
   ],
   "source": [
    "# Solution\n",
    "\n",
    "# This is a 'helper' function that will help the main function\n",
    "def max_of_two(x, y) :\n",
    "    if x > y :\n",
    "        return x\n",
    "    return y\n",
    "\n",
    "# Main function - finds max of two, then finds max of that max and the third number\n",
    "def max_of_three(x, y, z) :\n",
    "    return max_of_two(x, max_of_two(y, z))\n",
    "\n",
    "print(max_of_three(31, 67, -10))"
   ]
  },
  {
   "cell_type": "markdown",
   "metadata": {},
   "source": [
    "2. Write a function that sums all numbers in a list"
   ]
  },
  {
   "cell_type": "code",
   "execution_count": 15,
   "metadata": {},
   "outputs": [
    {
     "name": "stdout",
     "output_type": "stream",
     "text": [
      "43\n"
     ]
    }
   ],
   "source": [
    "# Solution\n",
    "\n",
    "def sum(numbers_list) :\n",
    "    total = 0  # Initialise this to zero - it'll end up as the result\n",
    "    for x in numbers_list :\n",
    "        total += x  # Increase the total sum by each element in the list\n",
    "    return total\n",
    "\n",
    "print(sum([1, 2, 5, 10, 25]))"
   ]
  },
  {
   "cell_type": "markdown",
   "metadata": {},
   "source": [
    "3. Write a function that reverses a string\n",
    "\n",
    "E.g. \"123abcde\" becomes \"edcba321\".\n",
    "Hint: you can use `len(string)` as the starting index and work backwards"
   ]
  },
  {
   "cell_type": "code",
   "execution_count": 16,
   "metadata": {},
   "outputs": [
    {
     "name": "stdout",
     "output_type": "stream",
     "text": [
      "123abcde\n",
      "edcba321\n"
     ]
    }
   ],
   "source": [
    "# Solution\n",
    "\n",
    "def string_reverse(string) :\n",
    "    rev_string = \"\"  # initialise an empty string\n",
    "    index = len(string)  # Start by looking at the last element\n",
    "    while index > 0 :\n",
    "        rev_string += string[index - 1]\n",
    "        index -= 1  # Decrease index to move backwards through the string\n",
    "    return rev_string\n",
    "\n",
    "\n",
    "string = \"123abcde\"\n",
    "print(string)\n",
    "print(string_reverse(string))"
   ]
  },
  {
   "cell_type": "markdown",
   "metadata": {},
   "source": [
    "## Task 2: Recursive Functions\n",
    "\n",
    "For the next three exercises, try thinking first about your base case and then your recursive case. Write your code on paper first if it helps!\n",
    "\n",
    "1. Write a functio called `recursive_exponent(base, exp)` that takes a `base` and an `exp` as parameters and _recursively_ computes base ^ exp. You are not allowed to use the `**` operator!"
   ]
  },
  {
   "cell_type": "code",
   "execution_count": 17,
   "metadata": {},
   "outputs": [
    {
     "name": "stdout",
     "output_type": "stream",
     "text": [
      "2^6 = 64\n"
     ]
    }
   ],
   "source": [
    "# Solution\n",
    "\n",
    "def recursive_exponent(base, exp):\n",
    "    # Base case 1 - this is how we know we're finished recursing\n",
    "    if exp == 1:\n",
    "        return base\n",
    "    else:\n",
    "        return base * recursive_exponent(base, exp - 1)\n",
    "\n",
    "print(\"2^6 =\", recursive_exponent(2, 6))"
   ]
  },
  {
   "cell_type": "markdown",
   "metadata": {},
   "source": [
    "2. Write a function called `recursive_countdown(n)` that uses recursion to print numbers from `n` to `0`, where `n` will be a positive integer parameter."
   ]
  },
  {
   "cell_type": "code",
   "execution_count": 18,
   "metadata": {},
   "outputs": [
    {
     "name": "stdout",
     "output_type": "stream",
     "text": [
      "10, 9, 8, 7, 6, 5, 4, 3, 2, 1, 0\n"
     ]
    }
   ],
   "source": [
    "# Solution\n",
    "\n",
    "def recursive_countdown(n):\n",
    "    # Base case 0 - how we know we're finished recursing\n",
    "    if n == 0:\n",
    "        print(n)\n",
    "    else:\n",
    "        print(n, end=', ')\n",
    "        recursive_countdown(n-1)\n",
    "        \n",
    "recursive_countdown(10)"
   ]
  },
  {
   "cell_type": "markdown",
   "metadata": {},
   "source": [
    "# Task 3: Higher-Order Function\n",
    "\n",
    "A higher-order function is a function that either contains other functions as parameters or returns a function as an output.\n",
    "\n",
    "For this exercise, we will write a function named `apply_fun_on_dict(a, my_fun)`. This function will apply a given function `my_fun` on the values of the dictionary `a`. For example, it could calculate the square of each value.\n",
    "\n",
    "The function `my_fun` that we want to apply to the dictionary in the main function will be defined as:\n",
    "```python\n",
    "def my_fun(element):\n",
    "    return element**2\n",
    "```\n",
    "\n",
    "Then, the dictionary `a` will be:\n",
    "```python\n",
    "a = {\"apple\": 6,\n",
    "     \"banana\": 2,\n",
    "     \"hello\": 5,\n",
    "     \"world\": 4}\n",
    "```\n",
    "and so `apply_fun_on_dict(a, my_fun)` should give the result `{\"apple\": 36, \"banana\": 4, \"hello\": 25, \"world\": 16}`."
   ]
  },
  {
   "cell_type": "code",
   "execution_count": 19,
   "metadata": {},
   "outputs": [
    {
     "name": "stdout",
     "output_type": "stream",
     "text": [
      "{'apple': 36, 'banana': 4, 'hello': 25, 'world': 16}\n"
     ]
    }
   ],
   "source": [
    "# Solution\n",
    "\n",
    "def apply_fun_on_dict(a, my_fun):\n",
    "    return {k: my_fun(v) for k, v in a.items()}\n",
    "\n",
    "def my_fun(n):\n",
    "    return n**2\n",
    "\n",
    "a = {'apple': 6, 'banana': 2, 'hello': 5, 'world': 4}\n",
    "print(apply_fun_on_dict(a, my_fun))"
   ]
  },
  {
   "cell_type": "code",
   "execution_count": null,
   "metadata": {},
   "outputs": [],
   "source": []
  }
 ],
 "metadata": {
  "kernelspec": {
   "display_name": "Python 3",
   "language": "python",
   "name": "python3"
  },
  "language_info": {
   "codemirror_mode": {
    "name": "ipython",
    "version": 3
   },
   "file_extension": ".py",
   "mimetype": "text/x-python",
   "name": "python",
   "nbconvert_exporter": "python",
   "pygments_lexer": "ipython3",
   "version": "3.8.5"
  }
 },
 "nbformat": 4,
 "nbformat_minor": 4
}
