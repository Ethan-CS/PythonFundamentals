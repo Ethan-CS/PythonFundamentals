{
 "cells": [
  {
   "cell_type": "markdown",
   "metadata": {},
   "source": [
    "# Exercises 9: Functions\n",
    "\n",
    "There are some tricky questions in here - don't be afraid to ask for help. You might find it useful to work out a rough structure or process on paper before going to code.\n",
    "\n",
    "## Task 1: Regular functions\n",
    "\n",
    "1. Write a function to find the maximum of three numbers"
   ]
  },
  {
   "cell_type": "code",
   "execution_count": 6,
   "metadata": {},
   "outputs": [],
   "source": [
    "# Your solution goes here"
   ]
  },
  {
   "cell_type": "markdown",
   "metadata": {},
   "source": [
    "2. Write a function that sums all numbers in a list"
   ]
  },
  {
   "cell_type": "code",
   "execution_count": 7,
   "metadata": {},
   "outputs": [],
   "source": [
    "# Your solution goes here"
   ]
  },
  {
   "cell_type": "markdown",
   "metadata": {},
   "source": [
    "3. Write a function that reverses a string\n",
    "\n",
    "E.g. \"123abcde\" becomes \"edcba321\".\n",
    "Hint: you can use negative indices, where the index `-1` gives the last element in the string, `-2` gives the second last, etc."
   ]
  },
  {
   "cell_type": "code",
   "execution_count": 8,
   "metadata": {},
   "outputs": [],
   "source": [
    "# Your solution goes here"
   ]
  },
  {
   "cell_type": "markdown",
   "metadata": {},
   "source": [
    "## Task 2: Recursive Functions\n",
    "\n",
    "For the next three exercises, try thinking first about your base case and then your recursive case. Write your code on paper first if it helps!\n",
    "\n",
    "1. Write a functio called `recursive_exponent(base, exp)` that takes a `base` and an `exp` as parameters and _recursively_ computes base ^ exp. You are not allowed to use the `**` operator!"
   ]
  },
  {
   "cell_type": "code",
   "execution_count": 9,
   "metadata": {},
   "outputs": [],
   "source": [
    "# Your solution goes here"
   ]
  },
  {
   "cell_type": "markdown",
   "metadata": {},
   "source": [
    "2. Write a function called `recursive_countdown(n)` that uses recursion to print numbers from `n` to `0`, where `n` will be a positive integer parameter."
   ]
  },
  {
   "cell_type": "code",
   "execution_count": 10,
   "metadata": {},
   "outputs": [],
   "source": [
    "# Your solution goes here"
   ]
  },
  {
   "cell_type": "markdown",
   "metadata": {},
   "source": [
    "# Task 3: Higher-Order Function\n",
    "\n",
    "A higher-order function is a function that either contains other functions as parameters or returns a function as an output.\n",
    "\n",
    "For this exercise, we will write a function named `apply_fun_on_dict(a, my_fun)`. This function will apply a given function `my_fun` on the values of the dictionary `a`. For example, it could calculate the square of each value.\n",
    "\n",
    "The function `my_fun` that we want to apply to the dictionary in the main function will be defined as:\n",
    "```python\n",
    "def my_fun(element):\n",
    "    return element**2\n",
    "```\n",
    "\n",
    "Then, the dictionary `a` will be:\n",
    "```python\n",
    "a = {\"apple\": 6,\n",
    "     \"banana\": 2,\n",
    "     \"hello\": 5,\n",
    "     \"world\": 4}\n",
    "```\n",
    "and so `apply_fun_on_dict(a, my_fun)` should give the result `{\"apple\": 36, \"banana\": 4, \"hello\": 25, \"world\": 16}`."
   ]
  },
  {
   "cell_type": "code",
   "execution_count": null,
   "metadata": {},
   "outputs": [],
   "source": []
  }
 ],
 "metadata": {
  "kernelspec": {
   "display_name": "Python 3",
   "language": "python",
   "name": "python3"
  },
  "language_info": {
   "codemirror_mode": {
    "name": "ipython",
    "version": 3
   },
   "file_extension": ".py",
   "mimetype": "text/x-python",
   "name": "python",
   "nbconvert_exporter": "python",
   "pygments_lexer": "ipython3",
   "version": "3.8.5"
  }
 },
 "nbformat": 4,
 "nbformat_minor": 4
}
