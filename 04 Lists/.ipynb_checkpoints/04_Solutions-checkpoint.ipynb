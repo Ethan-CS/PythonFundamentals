{
 "cells": [
  {
   "cell_type": "markdown",
   "metadata": {},
   "source": [
    "# 4: Lists Solutions\n",
    "\n",
    "1. Reverse a given list, e.g. if you get the list `[10, 20, 30, 40, 50]` you should print `[50, 40, 30, 20, 10]`.\n",
    "    * There are two possible ways you might try this. The first is using the `reverse()` function (which is a bit like cheating), and the second is using a _scicing operator._ If you can't find anything to help online, have a look at the solutions."
   ]
  },
  {
   "cell_type": "code",
   "execution_count": 21,
   "metadata": {},
   "outputs": [
    {
     "name": "stdout",
     "output_type": "stream",
     "text": [
      "[10, 20, 30, 40, 50]\n",
      "[50, 40, 30, 20, 10]\n"
     ]
    }
   ],
   "source": [
    "# Solution\n",
    "input_list = [10, 20, 30, 40, 50]\n",
    "print(input_list)\n",
    "# Using slicing operator\n",
    "input_list = input_list[::-1]\n",
    "print(input_list)"
   ]
  },
  {
   "cell_type": "markdown",
   "metadata": {},
   "source": [
    "2. Square every number in a given list of numbers, e.g. if you're given the list `[1, 2, 3, 4, 5]` you should return `[1, 4, 9, 16, 25]`."
   ]
  },
  {
   "cell_type": "code",
   "execution_count": 22,
   "metadata": {},
   "outputs": [
    {
     "name": "stdout",
     "output_type": "stream",
     "text": [
      "[1, 4, 9, 16, 25]\n",
      "[1, 4, 9, 16, 25]\n"
     ]
    }
   ],
   "source": [
    "# Solution\n",
    "input_list1 = [1, 2, 3, 4, 5]\n",
    "# first way to do this\n",
    "for i in range(len(input_list1)) :\n",
    "    input_list1[i] **= 2\n",
    "    \n",
    "print(input_list1)\n",
    "\n",
    "# second way\n",
    "input_list2 = [1, 2, 3, 4, 5]\n",
    "input_list2 = [x * x for x in input_list2]\n",
    "\n",
    "print(input_list2)"
   ]
  },
  {
   "cell_type": "markdown",
   "metadata": {},
   "source": [
    "3. Write a program that counts the number of times a specified element occurs within a given list. You should try writing this inside a function."
   ]
  },
  {
   "cell_type": "code",
   "execution_count": 23,
   "metadata": {},
   "outputs": [
    {
     "name": "stdout",
     "output_type": "stream",
     "text": [
      "5\n"
     ]
    }
   ],
   "source": [
    "# Solution\n",
    "def find_elem_in_list(elem, my_list) :\n",
    "    count = 0\n",
    "    for x in my_list :\n",
    "        if x == elem :\n",
    "            count += 1\n",
    "    return count\n",
    "\n",
    "my_list = [10, 15, 20, 3, 9, 99, 20, 20, 17, 20, \"Star Wars\", 30, 20]\n",
    "print(find_elem_in_list(20, my_list))"
   ]
  },
  {
   "cell_type": "markdown",
   "metadata": {},
   "source": [
    "4. Write a program that, given a list of numbers, removes any even numbers and returns a list of all the odd numbers"
   ]
  },
  {
   "cell_type": "code",
   "execution_count": 24,
   "metadata": {},
   "outputs": [
    {
     "name": "stdout",
     "output_type": "stream",
     "text": [
      "[1, 3, 5, 7, 9, 23, 27, 99]\n"
     ]
    }
   ],
   "source": [
    "# Solution\n",
    "def remove_even(my_next_list) :\n",
    "    to_return = []\n",
    "    for x in my_next_list :\n",
    "        if x % 2 != 0 :\n",
    "            to_return.append(x)\n",
    "    return to_return\n",
    "\n",
    "my_next_list = [1, 2, 3, 5, 7, 8, 9, 10, 12, 14, 22, 23, 27, 99]\n",
    "print(remove_even(my_next_list))"
   ]
  },
  {
   "cell_type": "code",
   "execution_count": null,
   "metadata": {},
   "outputs": [],
   "source": []
  }
 ],
 "metadata": {
  "kernelspec": {
   "display_name": "Python 3",
   "language": "python",
   "name": "python3"
  },
  "language_info": {
   "codemirror_mode": {
    "name": "ipython",
    "version": 3
   },
   "file_extension": ".py",
   "mimetype": "text/x-python",
   "name": "python",
   "nbconvert_exporter": "python",
   "pygments_lexer": "ipython3",
   "version": "3.8.5"
  }
 },
 "nbformat": 4,
 "nbformat_minor": 4
}
