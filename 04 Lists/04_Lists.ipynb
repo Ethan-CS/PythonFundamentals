{
 "cells": [
  {
   "cell_type": "markdown",
   "metadata": {},
   "source": [
    "# Python Fundamentals 3: Lists\n",
    "\n",
    "Lists are a common way of storing several items inside of a single variable. Other ways to do this are with `Tuple`, `Set` and `Dictionary`, which we will look more at in future. \n",
    "\n",
    "We create a list in Python using square brackets, like so:"
   ]
  },
  {
   "cell_type": "code",
   "execution_count": 51,
   "metadata": {},
   "outputs": [
    {
     "name": "stdout",
     "output_type": "stream",
     "text": [
      "['one', 'two', 'three']\n"
     ]
    }
   ],
   "source": [
    "my_list = [\"one\", \"two\", \"three\"]\n",
    "print(my_list)"
   ]
  },
  {
   "cell_type": "markdown",
   "metadata": {},
   "source": [
    "The items in a list are ordered (meaning their order remains the same unless you change it in your code), changeable (also known as mutable, meaning you can adjust the size, elements and so on without too much hassle) and allow duplicate values.\n",
    "\n",
    "We can find the length of a list using the `len()` function:"
   ]
  },
  {
   "cell_type": "code",
   "execution_count": 52,
   "metadata": {},
   "outputs": [
    {
     "name": "stdout",
     "output_type": "stream",
     "text": [
      "The list ['one', 'two', 'three'] is of length 3\n"
     ]
    }
   ],
   "source": [
    "my_list = [\"one\", \"two\", \"three\"]\n",
    "print(f\"The list {my_list} is of length {len(my_list)}\")"
   ]
  },
  {
   "cell_type": "markdown",
   "metadata": {},
   "source": [
    "We don't need to restrict our lists to containing strings. We can have lists of integers, floats, booleans, complex numbers - anything we like. We can even have a combination of data types in a list:"
   ]
  },
  {
   "cell_type": "code",
   "execution_count": 53,
   "metadata": {},
   "outputs": [],
   "source": [
    "string_list = [\"orange\", \"lemon\"]\n",
    "integer_list = [1, 1, 2, 3, 5]\n",
    "boolean_list = [True, False, True]\n",
    "mixed_list = [\"orange\", 5, False, 3.14, 5j]"
   ]
  },
  {
   "cell_type": "markdown",
   "metadata": {},
   "source": [
    "This direct declaration isn't the only way to create a new list. We can use something called the `list()` constructor to create new lists, like so (note the double brackets):"
   ]
  },
  {
   "cell_type": "code",
   "execution_count": 54,
   "metadata": {},
   "outputs": [],
   "source": [
    "string_list = list((\"orange\", \"lemon\"))\n",
    "integer_list = list((1, 1, 2, 3, 5))\n",
    "boolean_list = list((True, False, True))\n",
    "mixed_list = list((\"orange\", 5, False, 3.14, 5j))"
   ]
  },
  {
   "cell_type": "markdown",
   "metadata": {},
   "source": [
    "## Accessing List Items\n",
    "\n",
    "Each list is indexed from left to right, beginning at 0. We can use these indices to access specific elements or collection of elements in a list in a number of ways. \n",
    "* We can use the index number to get a particular element, counting from left to right: `0` refers to the first element, `1` is the second and so on.\n",
    "* We can use _negative indexing_ to count from right to left: `-1` refers to the last element in the list, `-2` is the second-last item and so on.\n",
    "* We can use a range to get a sublist between the specified indices: `[2:5]` means get a list made of the elements at positions `2`, `3` and `4` (the start index is inclusive, the last index is exclusive)"
   ]
  },
  {
   "cell_type": "code",
   "execution_count": 55,
   "metadata": {},
   "outputs": [
    {
     "name": "stdout",
     "output_type": "stream",
     "text": [
      "lime\n",
      "pomelo\n",
      "['lemon', 'grapefruit', 'mandarin']\n",
      "['lemon', 'grapefruit', 'mandarin']\n"
     ]
    }
   ],
   "source": [
    "my_list = [\"orange\", \"lime\", \"lemon\", \"grapefruit\", \"mandarin\", \"citron\", \"pomelo\"]\n",
    "print(my_list[1]) # Access the element at position 1, which should be \"lime\"\n",
    "print(my_list[-1]) # Final element in list\n",
    "print(my_list[2:5]) # List of elements 2, 3 and 4\n",
    "print(my_list[-5:-2]) # Elements from 4 from the end to 1 from the end"
   ]
  },
  {
   "cell_type": "markdown",
   "metadata": {},
   "source": [
    "We can get Python to check if an element exists in a list, too using `if` and `in`:"
   ]
  },
  {
   "cell_type": "code",
   "execution_count": 56,
   "metadata": {},
   "outputs": [
    {
     "name": "stdout",
     "output_type": "stream",
     "text": [
      "I am the delicious Miss Mandarin!\n"
     ]
    }
   ],
   "source": [
    "my_list = [\"orange\", \"lime\", \"lemon\", \"grapefruit\", \"mandarin\", \"citron\", \"pomelo\"]\n",
    "\n",
    "if \"mandarin\" in my_list :\n",
    "    print(\"I am the delicious Miss Mandarin!\")"
   ]
  },
  {
   "cell_type": "markdown",
   "metadata": {},
   "source": [
    "## List Methods\n",
    "\n",
    "We can reassign a specific element of a list or change a range of items in Python and even insert new items. For this, we have lots of built-in methods in Python:\n",
    "* Access a particular element using `name_of_list[i]` where `i` is the index of the element\n",
    "* Access a range of elements using `name_of_list[i:j]` where `i` is the start index (inclusive) and `j` is the end index (exclusive)\n",
    "* Get the index of a particular element using `name_of_list.index(element)`\n",
    "* Insert an element using `name_of_list.insert(i, element)` where `i` is the index you want `element` to be at\n",
    "* Add a new element to the end of the list using `name_of_list.append(element)`\n",
    "* Add another list onto the end of the list using `name_of_list.extend(list_to_add)`. There are other ways to do this too:\n",
    "    * `name_of_list + list_to_add`\n",
    "    * `name_of_list.append(list_to_add)`\n",
    "* Remove a specific element (without referencing index) using `name_of_list.remove(element)`\n",
    "* Remove an element at a specified index with `name_of_list.pop(i)` where `i` is the specified index. If you want to remove the last element, leave this blank and just use `pop()`.\n",
    "* Copy a list using `name_of_list.copy()`\n",
    "* Clear the whole list using `name_of_list.clear()`."
   ]
  },
  {
   "cell_type": "code",
   "execution_count": 57,
   "metadata": {},
   "outputs": [
    {
     "name": "stdout",
     "output_type": "stream",
     "text": [
      "['orange', 'lime', 'lemon', 'grapefruit', 'mandarin']\n",
      "['orange', 'lime', 'lemon', 'clementine', 'mandarin']\n",
      "['orange', 'lime', 'lemon', 'kumquat', 'pomelo']\n",
      "2\n",
      "['orange', 'lime', 'lemon', 'satsuma', 'kumquat', 'pomelo']\n",
      "['orange', 'lime', 'lemon', 'satsuma', 'kumquat', 'pomelo', 'citron']\n",
      "['orange', 'lime', 'lemon', 'satsuma', 'kumquat', 'pomelo', 'citron', 'apple', 'peach', 'pear']\n",
      "['orange', 'lime', 'lemon', 'satsuma', 'kumquat', 'pomelo', 'citron', 'peach', 'pear']\n",
      "['orange', 'lime', 'lemon', 'satsuma', 'kumquat', 'pomelo', 'citron', 'peach']\n",
      "['orange', 'lime', 'lemon', 'satsuma', 'kumquat', 'pomelo', 'citron', 'peach']\n",
      "[]\n"
     ]
    }
   ],
   "source": [
    "my_list = [\"orange\", \"lime\", \"lemon\", \"grapefruit\", \"mandarin\"]\n",
    "print(my_list)\n",
    "\n",
    "# Changing a single element\n",
    "my_list[3] = \"clementine\"  # No one likes grapefruit\n",
    "print(my_list)\n",
    "\n",
    "# Changing two elements at the same time\n",
    "my_list[3:5] = [\"kumquat\", \"pomelo\"]  \n",
    "print(my_list)\n",
    "\n",
    "# Get the index of an element\n",
    "i = my_list.index(\"lemon\")\n",
    "print(i)\n",
    "\n",
    "# Insert a new item\n",
    "my_list.insert(3, \"satsuma\")  \n",
    "# 3 is the index position to add the element to, \"satsuma\" is the element to be added\n",
    "print(my_list)\n",
    "\n",
    "# Append (insert at end) a new item\n",
    "my_list.append(\"citron\")\n",
    "print(my_list)\n",
    "\n",
    "# Extend list with another list\n",
    "to_add = [\"apple\", \"peach\", \"pear\"]  # The list to stick on the end\n",
    "my_list.extend(to_add)\n",
    "print(my_list)\n",
    "\n",
    "# Remove a particular item\n",
    "my_list.remove(\"apple\")\n",
    "print(my_list)\n",
    "\n",
    "# Remove last item in the list\n",
    "my_list.pop()\n",
    "print(my_list)\n",
    "\n",
    "# Copy the list\n",
    "my_new_list = my_list.copy()\n",
    "print(my_new_list)\n",
    "\n",
    "# Clear the whole list\n",
    "my_list.clear()\n",
    "print(my_list)"
   ]
  },
  {
   "cell_type": "markdown",
   "metadata": {},
   "source": [
    "## Loop through a list\n",
    "\n",
    "We haven't looked much at loops yet, but hopefully this isn't too hard to follow. We could print all items using a `for` loop or using a `while` loop:"
   ]
  },
  {
   "cell_type": "code",
   "execution_count": 58,
   "metadata": {},
   "outputs": [
    {
     "name": "stdout",
     "output_type": "stream",
     "text": [
      "orange\n",
      "lime\n",
      "lemon\n",
      "\n",
      "orange\n",
      "lime\n",
      "lemon\n",
      "\n"
     ]
    }
   ],
   "source": [
    "my_list = [\"orange\", \"lime\", \"lemon\"]\n",
    "\n",
    "# FOR loop\n",
    "for i in range(len(my_list)) :  # For i between 0 and the length of the list\n",
    "    print(my_list[i])  # Print the element at index i\n",
    "    \n",
    "print()  # Print a blank line\n",
    "\n",
    "# WHILE loop\n",
    "i = 0  # start off at element 0\n",
    "while i < len(my_list) :  # while i is less than the length of the list\n",
    "    print(my_list[i])  # print the element at index i\n",
    "    i += 1  # Increase i by 1\n",
    "    \n",
    "print()"
   ]
  },
  {
   "cell_type": "markdown",
   "metadata": {},
   "source": [
    "## List comprehension\n",
    "\n",
    "List comprehension is a _really_ useful way of examining lists in Python. Let's start with an example: say I have a list of integers and I want to get a new list of all numbers in the original that are even (divisible by two). We can do this using a `for` loop and an `if` statement, or we can use list comprehension:"
   ]
  },
  {
   "cell_type": "code",
   "execution_count": 59,
   "metadata": {},
   "outputs": [
    {
     "name": "stdout",
     "output_type": "stream",
     "text": [
      "[2, 4, 6, 16, 18, 22]\n",
      "[2, 4, 6, 16, 18, 22]\n"
     ]
    }
   ],
   "source": [
    "numbers = [1, 2, 4, 5, 6, 9, 11, 15, 16, 18, 22]  # Original list\n",
    "# New lists we'll store the even numbers in\n",
    "even1 = []  \n",
    "even2 = []\n",
    "\n",
    "# FOR loop method\n",
    "for x in numbers :  # Loop through entire list\n",
    "    if x % 2 == 0 :  # If the element we're looking at is even, add it to even list\n",
    "        even1.append(x)\n",
    "        \n",
    "print(even1)\n",
    "\n",
    "# LIST COMPREHENSION method\n",
    "even2 = [x for x in numbers if x % 2 == 0]\n",
    "\n",
    "print(even2)"
   ]
  },
  {
   "cell_type": "markdown",
   "metadata": {},
   "source": [
    "The list comprehension method is far shorter than the initial `for` loop method, but it's harder to understand so let's examine the syntax. The return value of the list comprehension is a new list and the original list is left in tact, and the way we use it is:\n",
    "```python\n",
    "new_list = [expression for item in iterable if condition == True]\n",
    "```\n",
    "* The `condition` is a filter that only accepts items that evaluate to `True`. This is optional and won't always be used.\n",
    "* The `iterable` part can be anything we can _iterate_ over, like a `list`, `tuple`, `set` and so on.\n",
    "* The `expression` is the current item in the iteration and the outcome, which we can set to whatever we like e.g. if we want to return a list with all values upper case, the expression would be `x.upper()`\n",
    "\n",
    "Hence, the list comprehension in the previous example `[x for x in numbers if x % 2 == 0]` means \"return the item from the list `numbers` if it is divisible by 2 (i.e. even)\".\n",
    "\n",
    "## List sorting\n",
    "\n",
    "We can use a number of different methods to sort lists:\n",
    "* `sort()` sorts the list alphanumerically, in ascending order by default and case sensitive\n",
    "* `sort(reverse = True)` sorts the list alphanumerically in _descending_ order\n",
    "* `sort(key = str.lower)` sorts the list alphanumerically in ascending order and case _insensitive)"
   ]
  },
  {
   "cell_type": "code",
   "execution_count": 60,
   "metadata": {},
   "outputs": [
    {
     "name": "stdout",
     "output_type": "stream",
     "text": [
      "['orange', 'lime', 'lemon', 'grapefruit', 'mandarin']\n",
      "['grapefruit', 'lemon', 'lime', 'mandarin', 'orange']\n",
      "['orange', 'mandarin', 'lime', 'lemon', 'grapefruit']\n"
     ]
    }
   ],
   "source": [
    "my_list = [\"orange\", \"lime\", \"lemon\", \"grapefruit\", \"mandarin\"]\n",
    "print(my_list)\n",
    "\n",
    "# Sort ascending\n",
    "my_list.sort()\n",
    "print(my_list)\n",
    "\n",
    "# Sort descending\n",
    "my_list.sort(reverse = True)\n",
    "print(my_list)"
   ]
  },
  {
   "cell_type": "code",
   "execution_count": null,
   "metadata": {},
   "outputs": [],
   "source": []
  }
 ],
 "metadata": {
  "kernelspec": {
   "display_name": "Python 3",
   "language": "python",
   "name": "python3"
  },
  "language_info": {
   "codemirror_mode": {
    "name": "ipython",
    "version": 3
   },
   "file_extension": ".py",
   "mimetype": "text/x-python",
   "name": "python",
   "nbconvert_exporter": "python",
   "pygments_lexer": "ipython3",
   "version": "3.8.5"
  }
 },
 "nbformat": 4,
 "nbformat_minor": 4
}
