{
 "cells": [
  {
   "cell_type": "markdown",
   "metadata": {},
   "source": [
    "# Python Fundamentals 5: Tuples\n",
    "\n",
    "Tuples is another of the built-in data types used to store collections of data in Python (along with `list`, `set` and `dictionary`. The difference between a `list` and a `tuple` is that a `list` is _changeable_ whereas a `tuple` is _unchangeable._ This means we can't add, change or remove any items after the tuple is created."
   ]
  },
  {
   "cell_type": "code",
   "execution_count": 20,
   "metadata": {},
   "outputs": [
    {
     "name": "stdout",
     "output_type": "stream",
     "text": [
      "('orange', 7, 'lemon', 3.14, 'mandarin', 7j, True)\n",
      "7\n",
      "<class 'tuple'>\n"
     ]
    }
   ],
   "source": [
    "# Create a tuple\n",
    "my_tuple = (\"orange\", 7, \"lemon\", 3.14, \"mandarin\", 7j, True)\n",
    "\n",
    "print(my_tuple)        # Print the tuple\n",
    "print(len(my_tuple))   # Print the length of the tuple\n",
    "print(type(my_tuple))  # Print the type of the tuple (to confirm it's a tuple)"
   ]
  },
  {
   "cell_type": "markdown",
   "metadata": {},
   "source": [
    "## Accessing Tuple Elements\n",
    "\n",
    "In much the same way as we saw with lists, we can access elements using indices:"
   ]
  },
  {
   "cell_type": "code",
   "execution_count": 21,
   "metadata": {},
   "outputs": [
    {
     "name": "stdout",
     "output_type": "stream",
     "text": [
      "3.14\n",
      "7j\n",
      "('lemon', 3.14, 'mandarin')\n",
      "('lemon', 3.14, 'mandarin')\n",
      "Element is in the tuple\n"
     ]
    }
   ],
   "source": [
    "my_tuple = (\"orange\", 7, \"lemon\", 3.14, \"mandarin\", 7j, True)\n",
    "\n",
    "print(my_tuple[3])      # Usual index - element at position 3 (fourth element)\n",
    "print(my_tuple[-2])     # Index 1 from end\n",
    "print(my_tuple[2:5])    # Indexing a range\n",
    "print(my_tuple[-5:-2])  # Backwards indexing a range\n",
    "\n",
    "# Find a specified element\n",
    "if 7j in my_tuple :\n",
    "    print(\"Element is in the tuple\")"
   ]
  },
  {
   "cell_type": "markdown",
   "metadata": {},
   "source": [
    "## Updating Tuples\n",
    "\n",
    "As we mentioned, it's not possible to change the values in a tuple because they are _immutable_ (also known as _unchangeable_). However, we can effectively change the values we want by first converting the tuple to a _list,_ changing the values in the usual list ways and then converting back to a tuple."
   ]
  },
  {
   "cell_type": "code",
   "execution_count": 22,
   "metadata": {},
   "outputs": [
    {
     "name": "stdout",
     "output_type": "stream",
     "text": [
      "('orange', 7, 'lemon', 3.14, 'mandarin', 7j, True)\n",
      "('orange', 'lime', 'lemon', 3.14, 'mandarin', 7j, True)\n"
     ]
    }
   ],
   "source": [
    "my_tuple = (\"orange\", 7, \"lemon\", 3.14, \"mandarin\", 7j, True)\n",
    "print(my_tuple)\n",
    "\n",
    "my_list = list(my_tuple)   # Converting to a list\n",
    "my_list[1] = \"lime\"        # Changing an element\n",
    "my_tuple = tuple(my_list)  # Convert back to a tuple\n",
    "\n",
    "print(my_tuple)"
   ]
  },
  {
   "cell_type": "markdown",
   "metadata": {},
   "source": [
    "## Packing and Unpacking\n",
    "\n",
    "When we create a new tuple, we assign values to locations - this is known as _packing_ a tuple. In Python, we can also _unpack_ a tuple by extracting the values back out to variables. If we don't declare enough variable names to assign data values to, we need to use an asterisk to tell Python we want to assign several values to the variable name."
   ]
  },
  {
   "cell_type": "code",
   "execution_count": 23,
   "metadata": {},
   "outputs": [
    {
     "name": "stdout",
     "output_type": "stream",
     "text": [
      "orange\n",
      "3.14\n",
      "['mandarin', 7j]\n",
      "True\n"
     ]
    }
   ],
   "source": [
    "my_tuple = (\"orange\", 7, \"lemon\", 3.14, \"mandarin\", 7j, True)\n",
    "\n",
    "(orange, seven, lemon, pi, *mandarin_complex, boolean) = my_tuple  # Assign variables to data\n",
    "\n",
    "print(orange)\n",
    "print(pi)\n",
    "print(mandarin_complex)\n",
    "print(something)"
   ]
  },
  {
   "cell_type": "markdown",
   "metadata": {},
   "source": [
    "## Looping Through a Tuple\n",
    "\n",
    "As with lists, we can loop through a tuple in different ways."
   ]
  },
  {
   "cell_type": "code",
   "execution_count": 24,
   "metadata": {},
   "outputs": [
    {
     "name": "stdout",
     "output_type": "stream",
     "text": [
      "orange\n",
      "7\n",
      "lemon\n",
      "3.14\n",
      "mandarin\n",
      "7j\n",
      "True\n",
      "\n",
      "orange\n",
      "7\n",
      "lemon\n",
      "3.14\n",
      "mandarin\n",
      "7j\n",
      "True\n",
      "\n",
      "orange\n",
      "7\n",
      "lemon\n",
      "3.14\n",
      "mandarin\n",
      "7j\n",
      "True\n"
     ]
    }
   ],
   "source": [
    "my_tuple = (\"orange\", 7, \"lemon\", 3.14, \"mandarin\", 7j, True)\n",
    "\n",
    "# Iterate through items\n",
    "for x in my_tuple :\n",
    "    print(x)\n",
    "    \n",
    "print()\n",
    "\n",
    "# Loop through index numbers\n",
    "for i in range(len(my_tuple)) :\n",
    "    print(my_tuple[i])\n",
    "    \n",
    "print()\n",
    "\n",
    "# Using a while loop\n",
    "i = 0\n",
    "while i < len(my_tuple) :\n",
    "    print(my_tuple[i])\n",
    "    i +=1"
   ]
  },
  {
   "cell_type": "markdown",
   "metadata": {},
   "source": [
    "## Tuple methods\n",
    "\n",
    "We have a few tuple methods to choose from in Python:\n",
    "* `+` can be used to join two tuples together: `tuple3 = tuple1 + tuple2`\n",
    "* `*` can be used to multiply tuples: `tuple2 = tuple1 * 2` is equivalent to `tuple2 = tuple1 + tuple1`\n",
    "* `count(element)` returns the number of times `element` appears in the triple\n",
    "* `index(element)` returns the index of `element` if it exists in the tuple. If there's more than one, it'll return the first instance. \n"
   ]
  },
  {
   "cell_type": "code",
   "execution_count": null,
   "metadata": {},
   "outputs": [],
   "source": []
  }
 ],
 "metadata": {
  "kernelspec": {
   "display_name": "Python 3",
   "language": "python",
   "name": "python3"
  },
  "language_info": {
   "codemirror_mode": {
    "name": "ipython",
    "version": 3
   },
   "file_extension": ".py",
   "mimetype": "text/x-python",
   "name": "python",
   "nbconvert_exporter": "python",
   "pygments_lexer": "ipython3",
   "version": "3.8.5"
  }
 },
 "nbformat": 4,
 "nbformat_minor": 4
}
