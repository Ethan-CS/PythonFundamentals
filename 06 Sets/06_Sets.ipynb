{
 "cells": [
  {
   "cell_type": "markdown",
   "metadata": {},
   "source": [
    "# Python Fundamentals 6: Sets\n",
    "\n",
    "Sets are another data type in Python that can be used to store a collection of values. A set is distinct because it is both _unordered_ and _unindexed,_ as well as _unchangeable_ and does not allow duplicates. Unordered means that the items in a set can appear in a different order every time you use them, which is why sets can't be referenced by an index or key. Sets being unchangeable means that we can't directly change the items after the set has been created, much the same as with tuples, but you can in fact add new items to the set. We can still get the length of a set in the usual way (using `len(set)`) and to assign values to a set, we use curly brackets: "
   ]
  },
  {
   "cell_type": "code",
   "execution_count": 2,
   "metadata": {},
   "outputs": [
    {
     "name": "stdout",
     "output_type": "stream",
     "text": [
      "{True, 3.14, 7, 'mandarin', 'orange', 'lemon', 7j}\n",
      "7\n",
      "<class 'set'>\n"
     ]
    }
   ],
   "source": [
    "my_set = {\"orange\", 7, \"lemon\", 3.14, \"mandarin\", 7j, True}\n",
    "\n",
    "print(my_set)        # Print the set - notice the order will likely change!\n",
    "print(len(my_set))   # Find the length of the set (should be 7)\n",
    "print(type(my_set))  # Verify that the object is indeed a set"
   ]
  },
  {
   "cell_type": "markdown",
   "metadata": {},
   "source": [
    "## Accessing Items in Sets\n",
    "\n",
    "Because we can't access elements of a set using an index or key, we generaly loop through the set or ask whether a specified value is present using `in`:"
   ]
  },
  {
   "cell_type": "code",
   "execution_count": 6,
   "metadata": {},
   "outputs": [
    {
     "name": "stdout",
     "output_type": "stream",
     "text": [
      "True\n",
      "3.14\n",
      "7\n",
      "mandarin\n",
      "orange\n",
      "lemon\n",
      "7j\n",
      "\n",
      "True\n"
     ]
    }
   ],
   "source": [
    "my_set = {\"orange\", 7, \"lemon\", 3.14, \"mandarin\", 7j, True}\n",
    "\n",
    "# Loop through the set and print each element\n",
    "for x in my_set :\n",
    "    print(x)\n",
    "    \n",
    "print()  # Print a blank line\n",
    "\n",
    "# Check if the element \"mandarin\" is in the set\n",
    "print(\"mandarin\" in my_set)  # Should be True"
   ]
  },
  {
   "cell_type": "markdown",
   "metadata": {},
   "source": [
    "## Adding and Removing Elements\n",
    "\n",
    "As we mentioned earlier, while we can't change the items in a set we can add new items to it and even add other iterables (other sets, lists, tuples or dictionaries) as well as remove specified elements and clear the entire set."
   ]
  },
  {
   "cell_type": "code",
   "execution_count": 22,
   "metadata": {},
   "outputs": [
    {
     "name": "stdout",
     "output_type": "stream",
     "text": [
      "{'orange', 'lemon'}\n",
      "{'lime', 'orange', 'lemon'}\n",
      "{'satsuma', 'citron', 'lemon', 'orange', 'lime'}\n",
      "{'satsuma', 'citron', 'lemon', 'amanatsu', 'tangerine', 'orange', 'lime'}\n",
      "{'citron', 'amanatsu', 'kumquat', 'clementine', 'orange', 'lime', 'satsuma', 'tangerine', 'lemon'}\n",
      "{'citron', 'amanatsu', 'kumquat', 'orange', 'lime', 'satsuma', 'tangerine', 'lemon'}\n",
      "{'citron', 'amanatsu', 'kumquat', 'orange', 'lime', 'tangerine', 'lemon'}\n",
      "{'amanatsu', 'kumquat', 'orange', 'lime', 'tangerine', 'lemon'}\n",
      "{'lime', 'lemon', 'tangerine'}\n",
      "{'satsuma'}\n",
      "set()\n"
     ]
    }
   ],
   "source": [
    "my_set = {\"orange\", \"lemon\"}\n",
    "print(my_set)\n",
    "\n",
    "# Adding a single element\n",
    "my_set.add(\"lime\")\n",
    "print(my_set)\n",
    "\n",
    "# Adding a set - first way\n",
    "set_to_add1 = set((\"satsuma\", \"citron\"))\n",
    "my_set.update(set_to_add1)\n",
    "print(my_set)\n",
    "\n",
    "# Adding to a set - second way\n",
    "set_to_add2 = {\"tangerine\", \"amanatsu\"}\n",
    "my_set = my_set.union(set_to_add2)\n",
    "print(my_set)\n",
    "\n",
    "# Adding another iterable (a list)\n",
    "list_to_add = [\"clementine\", \"kumquat\"]\n",
    "my_set.update(list_to_add)\n",
    "print(my_set)\n",
    "\n",
    "# Remove an element - first way\n",
    "my_set.remove(\"clementine\")  # Using `remove()` on an element that doesn't exist throws an error\n",
    "print(my_set)\n",
    "\n",
    "# Remove an element - second way\n",
    "my_set.discard(\"satsuma\")  # Using `discard()` on an element that doesn't exist does not throw an error\n",
    "print(my_set)\n",
    "\n",
    "# Remove the last element in the set\n",
    "# CAREFUL: because sets are unordered, it's hard to know what will be deleted\n",
    "my_set.pop()\n",
    "print(my_set)\n",
    "\n",
    "# Intersection: compares two sets and keeps only the duplicates\n",
    "to_compare = {\"lime\", \"satsuma\", \"lemon\", \"tangerine\"}\n",
    "my_set.intersection_update(to_compare)\n",
    "print(my_set)\n",
    "\n",
    "# Symmetric difference - keep everything but not the duplicates\n",
    "my_set.symmetric_difference_update(to_compare)\n",
    "print(my_set)\n",
    "\n",
    "# Clear the set\n",
    "my_set.clear()\n",
    "print(my_set)\n",
    "\n",
    "# Delete the set altogether\n",
    "del my_set"
   ]
  },
  {
   "cell_type": "code",
   "execution_count": null,
   "metadata": {},
   "outputs": [],
   "source": []
  }
 ],
 "metadata": {
  "kernelspec": {
   "display_name": "Python 3",
   "language": "python",
   "name": "python3"
  },
  "language_info": {
   "codemirror_mode": {
    "name": "ipython",
    "version": 3
   },
   "file_extension": ".py",
   "mimetype": "text/x-python",
   "name": "python",
   "nbconvert_exporter": "python",
   "pygments_lexer": "ipython3",
   "version": "3.8.5"
  }
 },
 "nbformat": 4,
 "nbformat_minor": 4
}
