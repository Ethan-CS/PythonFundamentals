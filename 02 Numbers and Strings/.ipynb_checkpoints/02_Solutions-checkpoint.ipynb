{
 "cells": [
  {
   "cell_type": "markdown",
   "metadata": {},
   "source": [
    "# 02: Numbers and Strings Solutions\n",
    "\n",
    "These exercises are to help you become more familar working with numbers and strings in Python.\n",
    "\n",
    "## Ex. 1: Guessing Game\n",
    "\n",
    "1. Generate a random number between 1 and 10.\n",
    "2. Ask the user to guess the number and tell them whether they guessed too high/low or guessed the number.\n",
    "3. Keep the game going until the user guesses the number or types `exit` (hint: `while True:`\n",
    "4. Keep track of how many guesses the user takes and when the game ends, print this to the console."
   ]
  },
  {
   "cell_type": "code",
   "execution_count": 3,
   "metadata": {},
   "outputs": [
    {
     "name": "stdout",
     "output_type": "stream",
     "text": [
      "Please make a guess.\n",
      "1\n",
      "Go higher!\n",
      "Please make a guess.\n",
      "5\n",
      "Go higher!\n",
      "Please make a guess.\n",
      "6\n",
      "Go higher!\n",
      "Please make a guess.\n",
      "7\n",
      "Go higher!\n",
      "Please make a guess.\n",
      "8\n",
      "That's it!\n",
      "You got it in 5 guesses, well done!\n"
     ]
    }
   ],
   "source": [
    "import random\n",
    "\n",
    "# Generate a random number between 1 and 10\n",
    "rand = random.randint(1, 10)\n",
    "\n",
    "# Initialise guess and count variables - random number can't be 0.\n",
    "guess = 0\n",
    "count = 0\n",
    "\n",
    "while guess != rand and guess != \"exit\":\n",
    "    guess = input(\"Please make a guess.\\n\")\n",
    "    \n",
    "    # If the user types exit, break the loop\n",
    "    if guess == \"exit\":\n",
    "        break\n",
    "        \n",
    "    # Cast guess to an integer and increase the guess counter\n",
    "    guess = int(guess)\n",
    "    count += 1\n",
    "    \n",
    "    if guess < rand:\n",
    "        print(\"Go higher!\")\n",
    "    elif guess > rand:\n",
    "        print(\"Go lower!\")\n",
    "    else:\n",
    "        print(f\"That's it!\\nYou got it in {count} guesses, well done!\")"
   ]
  },
  {
   "cell_type": "markdown",
   "metadata": {},
   "source": [
    "## Ex. 2: String List\n",
    "\n",
    "1. Ask the user for a string (this can be anything) and print whether the string is a palindrome or not."
   ]
  },
  {
   "cell_type": "code",
   "execution_count": 7,
   "metadata": {},
   "outputs": [
    {
     "name": "stdout",
     "output_type": "stream",
     "text": [
      "Please enter a word.\n",
      "RaCeCAR\n",
      "Your word reversed is racecar\n",
      "racecar is a palindrome!\n"
     ]
    }
   ],
   "source": [
    "word = input(\"Please enter a word.\\n\").lower()\n",
    "reverse = word[::-1]\n",
    "print(f\"Your word reversed is {reverse}\")\n",
    "\n",
    "if word == reverse:\n",
    "    print(f\"{word} is a palindrome!\")\n",
    "else:\n",
    "    print(f\"{word} is not a palindrome.\")"
   ]
  },
  {
   "cell_type": "markdown",
   "metadata": {},
   "source": [
    "## Ex. 3: Rock, Paper, Scissors\n",
    "\n",
    "1. Make a two-player rock-paper-scissors game.\n",
    "\n",
    "Hint: ask for each player to input a play, compare, print a message of congratulations to the winner and ask if they want to start a new game. Remember: rock > scissors > paper > rock."
   ]
  },
  {
   "cell_type": "code",
   "execution_count": 8,
   "metadata": {},
   "outputs": [
    {
     "name": "stdout",
     "output_type": "stream",
     "text": [
      "Please pick one:\n",
      "            Orc\n",
      "            Hobbit\n",
      "            Elf\n",
      "Player a: Orc\n",
      "Player b: Hobbit\n",
      "player a wins.\n",
      "Do you want to play another game (y/n)?\n",
      "n\n",
      "game over.\n"
     ]
    }
   ],
   "source": [
    "# LotR version: Orc beats Hobbit, Hobbit beats Elf, Elf beats Orc.\n",
    "print('''Please pick one:\n",
    "            Orc\n",
    "            Hobbit\n",
    "            Elf''')\n",
    "\n",
    "while True:\n",
    "    game_dict = {'Orc': 1, 'Hobbit': 2, 'Elf': 3}\n",
    "    player_a = str(input(\"Player a: \"))\n",
    "    player_b = str(input(\"Player b: \"))\n",
    "    a = game_dict.get(player_a)\n",
    "    b = game_dict.get(player_b)\n",
    "    dif = a - b\n",
    "\n",
    "    if dif in [-1, 2]:\n",
    "        print('player a wins.')\n",
    "        if str(input('Do you want to play another game (y/n)?\\n').lower()) == 'y':\n",
    "            continue\n",
    "        else:\n",
    "            print('game over.')\n",
    "            break\n",
    "    elif dif in [-2, 1]:\n",
    "        print('player b wins.')\n",
    "        if str(input('Do you want to play another game (y/n)?\\n').lower) == 'y':\n",
    "            continue\n",
    "        else:\n",
    "            print('Game over. Thanks for playing!')\n",
    "            break\n",
    "    else:\n",
    "        print('Draw.Please continue.')\n",
    "        print('')\n"
   ]
  },
  {
   "cell_type": "markdown",
   "metadata": {},
   "source": [
    "## Ex. 4: Fibonacci\n",
    "\n",
    "1. Write a program that asks the user how many Fibonacci numbers to generate and then generate that many.\n",
    "2. Try and use functions to complete this task.\n",
    "\n",
    "Hint: the Fibonacci sequence is a sequence of numbers where the next number is the sum of the previous two. It begins at 1, then 1 again, then 1+1=2 so the next number is 2, 2+1=3 so then we move to 3, then 5, etc. so we have 1, 1, 2, 3, 5, 8, 13, ..."
   ]
  },
  {
   "cell_type": "code",
   "execution_count": 10,
   "metadata": {},
   "outputs": [
    {
     "name": "stdout",
     "output_type": "stream",
     "text": [
      "How many numbers to generate?\n",
      "50\n",
      "[1, 1, 2, 3, 5, 8, 13, 21, 34, 55, 89, 144, 233, 377, 610, 987, 1597, 2584, 4181, 6765, 10946, 17711, 28657, 46368, 75025, 121393, 196418, 317811, 514229, 832040, 1346269, 2178309, 3524578, 5702887, 9227465, 14930352, 24157817, 39088169, 63245986, 102334155, 165580141, 267914296, 433494437, 701408733, 1134903170, 1836311903, 2971215073, 4807526976, 7778742049, 12586269025]\n"
     ]
    }
   ],
   "source": [
    "def fibonacci():\n",
    "    num = int(input(\"How many numbers to generate?\\n\"))\n",
    "    i = 1\n",
    "    if num == 0:\n",
    "        fib = []\n",
    "    elif num == 1:\n",
    "        fib = [1]\n",
    "    elif num == 2:\n",
    "        fib = [1,1]\n",
    "    elif num > 2:\n",
    "        fib = [1,1]\n",
    "        while i < (num - 1):\n",
    "            fib.append(fib[i] + fib[i-1])\n",
    "            i += 1\n",
    "    return fib\n",
    "\n",
    "print(fibonacci())"
   ]
  },
  {
   "cell_type": "markdown",
   "metadata": {},
   "source": [
    "## Ex. 5: Reverse word\n",
    "\n",
    "1. Write a program (with functions) that gets a long string containing multiple words from the user.\n",
    "2. Print the same string back to the user with the _words_ in the _reverse order._ For instance, \"My name is Ethan\" becomes\"Ethan is name My\"."
   ]
  },
  {
   "cell_type": "code",
   "execution_count": 14,
   "metadata": {},
   "outputs": [
    {
     "name": "stdout",
     "output_type": "stream",
     "text": [
      "Enter a sentence: Hello, my name is Ethan\n",
      "Ethan is name my Hello,\n",
      "Ethan is name my Hello,\n",
      "Ethan is name my Hello,\n",
      "Ethan is name my Hello,\n",
      "Ethan is name my Hello,\n"
     ]
    }
   ],
   "source": [
    "# Here are some possible ways you may have solved this\n",
    "\n",
    "# method 0: to make me look clever\n",
    "def reverse_v0(w):\n",
    "  return ' '.join(w.split()[::-1])\n",
    "\n",
    "# method 1: loop through the words and insert each word \n",
    "# at the begining of the result list\n",
    "def reverse_v1(x):\n",
    "  y = x.split()\n",
    "  result = []\n",
    "  for word in y:\n",
    "    result.insert(0,word)\n",
    "  return \" \".join(result)\n",
    "\n",
    "# method 2\n",
    "def reverse_v2(x):\n",
    "  y = x.split()\n",
    "  return \" \".join(y[::-1])\n",
    "  \n",
    "# method 3\n",
    "def reverse_v3(x):\n",
    "  y = x.split()\n",
    "  return \" \".join(reversed(y))\n",
    "\n",
    "# method 4\n",
    "def reverse_v4(x):\n",
    "  y = x.split()\n",
    "  y.reverse()\n",
    "  return \" \".join(y)\n",
    "\n",
    "# test code - to make sure all methods work\n",
    "test1 = input(\"Enter a sentence: \")\n",
    "print(reverse_v0(test1))\n",
    "print(reverse_v1(test1))\n",
    "print(reverse_v2(test1))\n",
    "print(reverse_v3(test1))\n",
    "print(reverse_v4(test1))"
   ]
  },
  {
   "cell_type": "markdown",
   "metadata": {},
   "source": [
    "## Ex. 6: Password generator\n",
    "\n",
    "1. Write a program that generates passwords. Be creative - use a mix of lowercase and uppercase letters, numbers and symbols. \n",
    "2. Make sure passwords are random and a new one is generated each time you run the program."
   ]
  },
  {
   "cell_type": "code",
   "execution_count": 19,
   "metadata": {},
   "outputs": [
    {
     "name": "stdout",
     "output_type": "stream",
     "text": [
      "f#Ihu63c8b$%\n"
     ]
    }
   ],
   "source": [
    "# generate a password with length \"passlen\" with no  \n",
    "# duplicate characters in the password\n",
    "\n",
    "import random\n",
    "\n",
    "s = \"abcdefghijklmnopqrstuvwxyz01234567890ABCDEFGHIJKLMNOPQRSTUVWXYZ!@#$%^&*()?\"\n",
    "passlen = 12\n",
    "p =  \"\".join(random.sample(s,passlen ))\n",
    "print(p)"
   ]
  },
  {
   "cell_type": "markdown",
   "metadata": {},
   "source": [
    "## Ex. 7: Check for Primality\n",
    "\n",
    "Every good prime number generator starts with code that can check whether a given number is prime or not (so it knows which numbers to output and which to ignore).\n",
    "\n",
    "1. Ask the user for a number and determine whether it is prime or not.\n",
    "2. To do this, you might write code that asks the user for a number and then prints out a list of all the numbers that divide evenly into that number (e.g. 18/9 gives a whole number, so 9 is a divisor of 18 and it would be printed). \n",
    "3. Recall that a prime number's only divisors are 1 and itself - you can then perform a logical test to see whether this is true of a given number, thereby seeing if it is prime or not."
   ]
  },
  {
   "cell_type": "code",
   "execution_count": 23,
   "metadata": {},
   "outputs": [
    {
     "name": "stdout",
     "output_type": "stream",
     "text": [
      "Enter a number to check. Ctrl-C to exit.9\n",
      "9 is not prime.\n",
      "\n"
     ]
    }
   ],
   "source": [
    "def get_number(prompt):\n",
    "    # Returns integer value for input. Prompt is displayed text\n",
    "    return int(input(prompt))    \n",
    "    \n",
    "def is_prime(number):\n",
    "    # Returns True for prime numbers, False otherwise\n",
    "    #Edge Cases\n",
    "    if number == 1:\n",
    "        prime = False\n",
    "    elif number == 2:\n",
    "        prime = True\n",
    "    #All other primes    \n",
    "    else:\n",
    "        prime = True\n",
    "        for check_number in range(2, int((number / 2)+1)):\n",
    "            if number % check_number == 0:\n",
    "                prime = False\n",
    "                break\n",
    "    return prime\n",
    "\n",
    "def print_prime(number):\n",
    "    prime = is_prime(number)\n",
    "    if prime:\n",
    "        descriptor = \"\"\n",
    "    else:\n",
    "        descriptor = \"not \"\n",
    "    print(number,\" is \", descriptor, \"prime.\", sep = \"\", end = \"\\n\\n\")\n",
    "    \n",
    "\n",
    "print_prime(get_number(\"Enter a number to check.\"))"
   ]
  },
  {
   "cell_type": "code",
   "execution_count": null,
   "metadata": {},
   "outputs": [],
   "source": []
  }
 ],
 "metadata": {
  "kernelspec": {
   "display_name": "Python 3",
   "language": "python",
   "name": "python3"
  },
  "language_info": {
   "codemirror_mode": {
    "name": "ipython",
    "version": 3
   },
   "file_extension": ".py",
   "mimetype": "text/x-python",
   "name": "python",
   "nbconvert_exporter": "python",
   "pygments_lexer": "ipython3",
   "version": "3.8.5"
  }
 },
 "nbformat": 4,
 "nbformat_minor": 4
}
