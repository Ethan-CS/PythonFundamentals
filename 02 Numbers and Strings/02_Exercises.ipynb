{
 "cells": [
  {
   "cell_type": "markdown",
   "metadata": {},
   "source": [
    "# 02: Numbers and Strings Exercises\n",
    "\n",
    "These exercises are to help you become more familar working with numbers and strings in Python.\n",
    "\n",
    "## Ex. 1: Guessing Game\n",
    "\n",
    "1. Generate a random number between 1 and 10.\n",
    "2. Ask the user to guess the number and tell them whether they guessed too high/low or guessed the number.\n",
    "3. Keep the game going until the user guesses the number or types `exit` (hint: `while True:`\n",
    "4. Keep track of how many guesses the user takes and when the game ends, print this to the console."
   ]
  },
  {
   "cell_type": "code",
   "execution_count": 1,
   "metadata": {},
   "outputs": [],
   "source": [
    "# Your solution goes here"
   ]
  },
  {
   "cell_type": "markdown",
   "metadata": {},
   "source": [
    "## Ex. 2: String List\n",
    "\n",
    "1. Ask the user for a string (this can be anything) and print whether the string is a palindrome or not."
   ]
  },
  {
   "cell_type": "code",
   "execution_count": 2,
   "metadata": {},
   "outputs": [],
   "source": [
    "# Your solution goes here"
   ]
  },
  {
   "cell_type": "markdown",
   "metadata": {},
   "source": [
    "## Ex. 3: Rock, Paper, Scissors\n",
    "\n",
    "1. Make a two-player rock-paper-scissors game.\n",
    "\n",
    "Hint: ask for each player to input a play, compare, print a message of congratulations to the winner and ask if they want to start a new game. Remember: rock > scissors > paper > rock."
   ]
  },
  {
   "cell_type": "code",
   "execution_count": 3,
   "metadata": {},
   "outputs": [],
   "source": [
    "# Your solution goes here"
   ]
  },
  {
   "cell_type": "markdown",
   "metadata": {},
   "source": [
    "## Ex. 4: Fibonacci\n",
    "\n",
    "1. Write a program that asks the user how many Fibonacci numbers to generate and then generate that many.\n",
    "2. Try and use functions to complete this task.\n",
    "\n",
    "Hint: the Fibonacci sequence is a sequence of numbers where the next number is the sum of the previous two. It begins at 1, then 1 again, then 1+1=2 so the next number is 2, 2+1=3 so then we move to 3, then 5, etc. so we have 1, 1, 2, 3, 5, 8, 13, ..."
   ]
  },
  {
   "cell_type": "code",
   "execution_count": null,
   "metadata": {},
   "outputs": [],
   "source": [
    "# Your solution goes here"
   ]
  },
  {
   "cell_type": "markdown",
   "metadata": {},
   "source": [
    "## Ex. 5: Reverse word\n",
    "\n",
    "1. Write a program (with functions) that gets a long string containing multiple words from the user.\n",
    "2. Print the same string back to the user with the _words_ in the _reverse order._ For instance, \"My name is Ethan\" becomes\"Ethan is name My\"."
   ]
  },
  {
   "cell_type": "code",
   "execution_count": null,
   "metadata": {},
   "outputs": [],
   "source": [
    "# Your solution goes here"
   ]
  },
  {
   "cell_type": "markdown",
   "metadata": {},
   "source": [
    "## Ex. 6: Password generator\n",
    "\n",
    "1. Write a program that generates passwords. Be creative - use a mix of lowercase and uppercase letters, numbers and symbols. \n",
    "2. Make sure passwords are random and a new one is generated each time you run the program."
   ]
  },
  {
   "cell_type": "code",
   "execution_count": null,
   "metadata": {},
   "outputs": [],
   "source": [
    "# Your solution goes here"
   ]
  },
  {
   "cell_type": "markdown",
   "metadata": {},
   "source": [
    "## Ex. 7: Check for Primality\n",
    "\n",
    "Every good prime number generator starts with code that can check whether a given number is prime or not (so it knows which numbers to output and which to ignore).\n",
    "\n",
    "1. Ask the user for a number and determine whether it is prime or not.\n",
    "2. To do this, you might write code that asks the user for a number and then prints out a list of all the numbers that divide evenly into that number (e.g. 18/9 gives a whole number, so 9 is a divisor of 18 and it would be printed). \n",
    "3. Recall that a prime number's only divisors are 1 and itself - you can then perform a logical test to see whether this is true of a given number, thereby seeing if it is prime or not."
   ]
  },
  {
   "cell_type": "code",
   "execution_count": null,
   "metadata": {},
   "outputs": [],
   "source": [
    "# Your solution goes here"
   ]
  },
  {
   "cell_type": "code",
   "execution_count": null,
   "metadata": {},
   "outputs": [],
   "source": []
  }
 ],
 "metadata": {
  "kernelspec": {
   "display_name": "Python 3",
   "language": "python",
   "name": "python3"
  },
  "language_info": {
   "codemirror_mode": {
    "name": "ipython",
    "version": 3
   },
   "file_extension": ".py",
   "mimetype": "text/x-python",
   "name": "python",
   "nbconvert_exporter": "python",
   "pygments_lexer": "ipython3",
   "version": "3.8.5"
  }
 },
 "nbformat": 4,
 "nbformat_minor": 4
}
