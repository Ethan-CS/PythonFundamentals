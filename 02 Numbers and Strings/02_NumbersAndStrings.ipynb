{
 "cells": [
  {
   "cell_type": "markdown",
   "metadata": {},
   "source": [
    "# Python Fundamentals 2: Numbers and Strings\n",
    "\n",
    "As I mentioned in the previous notebook, there are many different types a variable can take. Here, we will focus in on text and numeric types and explore what we can do with them. As a reminder, the types data can take in Python are as follows:\n",
    "\n",
    "* Text: \n",
    "    * `str` (string)\n",
    "* Number: \n",
    "    * `int` (integer)\n",
    "    * `float` (decimal)\n",
    "    * `complex` (complex number)\n",
    "* Sequence:\n",
    "    * `list` (square brackets)\n",
    "    * `tuple` (usual brackets)\n",
    "    * `range` (numbers in a given range, e.g. {0, 1, 2, 3})\n",
    "* Mapping:\n",
    "    * `dict` (dictionary)\n",
    "* Sets:\n",
    "    * `set` (unordered, unique elements)\n",
    "    * `frozenset` (same as sets, less we can do to them)\n",
    "* Boolean:\n",
    "    * `bool` (either `True` or `False`)\n",
    "* Binary: (just here for completeness, don't worry about these)\n",
    "    * `bytes`\n",
    "    * `bytearray`\n",
    "    * `memoryview`\n",
    "\n",
    "As I mentioned, we'll focus on the top two (text and number) in this notebook."
   ]
  },
  {
   "cell_type": "markdown",
   "metadata": {},
   "source": [
    "## Numbers in Python\n",
    "\n",
    "We can declare three types of number in Python: integers, decimals and complex numbers. They look like this:"
   ]
  },
  {
   "cell_type": "code",
   "execution_count": 2,
   "metadata": {},
   "outputs": [
    {
     "name": "stdout",
     "output_type": "stream",
     "text": [
      "3 is of type <class 'int'>\n",
      "3.14 is of type <class 'float'>\n",
      "3j is of type <class 'complex'>\n"
     ]
    }
   ],
   "source": [
    "x = 3     # Integer (int)\n",
    "y = 3.14  # Decimal (float)\n",
    "z = 3j    # Complex (complex)\n",
    "\n",
    "print(f\"{x} is of type {type(x)}\")\n",
    "print(f\"{y} is of type {type(y)}\")\n",
    "print(f\"{z} is of type {type(z)}\")"
   ]
  },
  {
   "cell_type": "markdown",
   "metadata": {},
   "source": [
    "We can convert between different types:"
   ]
  },
  {
   "cell_type": "code",
   "execution_count": 6,
   "metadata": {},
   "outputs": [
    {
     "name": "stdout",
     "output_type": "stream",
     "text": [
      "3.0, 3, (3+0j)\n",
      "<class 'float'>, <class 'int'>, <class 'complex'>\n"
     ]
    }
   ],
   "source": [
    "x = 3     # Integer (int)\n",
    "y = 3.14  # Decimal (float)\n",
    "z = 3j    # Complex (complex)\n",
    "\n",
    "# Integer to decimal (int -> float)\n",
    "a = float(3)\n",
    "\n",
    "# Decimal to int (float -> int) - losing some information here!\n",
    "b = int(y)\n",
    "\n",
    "# Integer to complex (int -> complex)\n",
    "c = complex(x)\n",
    "\n",
    "print(f\"{a}, {b}, {c}\")\n",
    "print(f\"{type(a)}, {type(b)}, {type(c)}\")"
   ]
  },
  {
   "cell_type": "markdown",
   "metadata": {},
   "source": [
    "#### Random Numbers\n",
    "\n",
    "We can \"import\" a \"module\" that gives us a function `random()` that generates random numbers - this is necessary because Python itself does not have a `random()` function. Here's an example - if you run it a few times, you should get different values. Try changing the `randrange()` values!"
   ]
  },
  {
   "cell_type": "code",
   "execution_count": 8,
   "metadata": {},
   "outputs": [
    {
     "name": "stdout",
     "output_type": "stream",
     "text": [
      "9\n"
     ]
    }
   ],
   "source": [
    "import random\n",
    "\n",
    "# Print a random number in the range from 1 to 10\n",
    "print(random.randrange(1, 10))"
   ]
  },
  {
   "cell_type": "markdown",
   "metadata": {},
   "source": [
    "### Strings\n",
    "\n",
    "You have already seen that we can assign a string to a variable and print to the standard output, but we can do a lot more with strings in Python. For instance, we can declare a multiline string by surrounding with three quotes (single or double) like so:"
   ]
  },
  {
   "cell_type": "code",
   "execution_count": 9,
   "metadata": {},
   "outputs": [
    {
     "name": "stdout",
     "output_type": "stream",
     "text": [
      "Lorem ipsum dolor sit amet,\n",
      "consectetur adipiscing elit,\n",
      "sed do eiusmod tempor incididunt\n",
      "ut labore et dolore magna aliqua.\n"
     ]
    }
   ],
   "source": [
    "lorem_ipsum = \"\"\"Lorem ipsum dolor sit amet,\n",
    "consectetur adipiscing elit,\n",
    "sed do eiusmod tempor incididunt\n",
    "ut labore et dolore magna aliqua.\"\"\"\n",
    "\n",
    "print(lorem_ipsum)"
   ]
  },
  {
   "cell_type": "markdown",
   "metadata": {},
   "source": [
    "Strings themselves are just arrays of 'bytes', a unit of data 8 characters long in this case representing characters (e.g. in the ASCII system, the uppercase letter B is represented as 01000010 as a binary number or byte). That means we can use square brackets to access particular positions in a string:"
   ]
  },
  {
   "cell_type": "code",
   "execution_count": 17,
   "metadata": {},
   "outputs": [
    {
     "name": "stdout",
     "output_type": "stream",
     "text": [
      "E\n",
      "Eth\n",
      "han\n"
     ]
    }
   ],
   "source": [
    "name = \"Ethan\"\n",
    "\n",
    "print(name[0])    # The first character, E\n",
    "print(name[:3])   # The characters from start (included) to 3 (excluded) - Eth\n",
    "print(name[2:])  # Characters from 2 to end - han"
   ]
  },
  {
   "cell_type": "markdown",
   "metadata": {},
   "source": [
    "We can change character formatting in strings too. Some useful methods to do this are:\n",
    "* `lower()` - converts all characters to lower case\n",
    "* `upper()` - converts all characters to upper case\n",
    "* `strip()` - removes leading and trailing whitespace (spaces at beginning and end)\n",
    "* `replace()` - replaces one string with another\n",
    "* `split()` splits the string into substrings separated by the given 'delimiter'\n",
    "* `+` - String concatenator - merges two strings together"
   ]
  },
  {
   "cell_type": "code",
   "execution_count": 24,
   "metadata": {},
   "outputs": [
    {
     "name": "stdout",
     "output_type": "stream",
     "text": [
      "  Hello, I'm learning Python  \n",
      "  hello, i'm learning python  \n",
      "  HELLO, I'M LEARNING PYTHON  \n",
      "Hello, I'm learning Python\n",
      "~~Hello,~I'm~learning~Python~~\n",
      "['  Hello', \" I'm learning Python  \"]\n",
      "Hello, I'm learning Python and I love it!\n"
     ]
    }
   ],
   "source": [
    "a = \"  Hello, I'm learning Python  \"\n",
    "b = \" and I love it!\"\n",
    "\n",
    "print(a)  # Prints normally\n",
    "print(a.lower())  # Prints all lower case\n",
    "print(a.upper())  # Prints all upper case  \n",
    "print(a.strip())  # Removes whitespace at start and end\n",
    "print(a.replace(\" \", \"~\"))  # Replaces spaces with ~ character\n",
    "print(a.split(\",\"))  # Splits into substrings separated by a comma\n",
    "print(a.strip() + b)"
   ]
  },
  {
   "cell_type": "markdown",
   "metadata": {},
   "source": [
    "Sometimes, you may wish to use an illegal character in a string. If I wanted to print something like `\"she was my \"so-called\" friend\"`, Python would throw an error. Look at the formatting to see what the problem is:\n",
    "```python\n",
    "message = \"she was my \"so-called\" friend\"\n",
    "```\n",
    "To fix this, we use the 'escape character' `\\\"` to denote we want to actually print a quotation mark, like so: `\"she was my \\\"so-called\\\" friend\"`. The full list of escape characters are:\n",
    "* `\\'` - single quote\n",
    "* `\\\\` - backslash\n",
    "* `\\n` - new line\n",
    "* `\\r` - carriage return\n",
    "* `\\t` - tab\n",
    "* `\\b` - backspace\n",
    "* `\\f` - form feed\n",
    "* `\\ooo` - octal value\n",
    "* `\\xhh` - hex value"
   ]
  },
  {
   "cell_type": "markdown",
   "metadata": {},
   "source": [
    "#### String methods\n",
    "\n",
    "Here's a handy list of lots of commonly used string methods that you might want to keep somewhere safe.\n",
    "\n",
    "* `capitalize()` - Converts the first character to upper case\n",
    "* `casefold()` - Converts string into lower case\n",
    "* `center()` - Returns a centered string\n",
    "* `count()` - Returns the number of times a specified value occurs in a string\n",
    "* `encode()` - Returns an encoded version of the string\n",
    "* `endswith()` - Returns true if the string ends with the specified value\n",
    "* `expandtabs()` - Sets the tab size of the string\n",
    "* `find()` - Searches the string for a specified value and returns the position of where it was found\n",
    "* `format()` - Formats specified values in a string\n",
    "* `format_map()` - Formats specified values in a string\n",
    "* `index()` - Searches the string for a specified value and returns the position of where it was found\n",
    "* `isalnum()` - Returns True if all characters in the string are alphanumeric\n",
    "* `isalpha()` - Returns True if all characters in the string are in the alphabet\n",
    "* `isdecimal()` - Returns True if all characters in the string are decimals\n",
    "* `isdigit()` - Returns True if all characters in the string are digits\n",
    "* `isidentifier()` - Returns True if the string is an identifier\n",
    "* `islower()` - Returns True if all characters in the string are lower case\n",
    "* `isnumeric()` - Returns True if all characters in the string are numeric\n",
    "* `isprintable()` - Returns True if all characters in the string are printable\n",
    "* `isspace()` - Returns True if all characters in the string are whitespaces\n",
    "* `istitle()` - Returns True if the string follows the rules of a title\n",
    "* `isupper()` - Returns True if all characters in the string are upper case\n",
    "* `join()` - Joins the elements of an iterable to the end of the string\n",
    "* `ljust()`- Returns a left justified version of the string\n",
    "* `lower()` - Converts a string into lower case\n",
    "* `lstrip()` - Returns a left trim version of the string\n",
    "* `maketrans()` - Returns a translation table to be used in translations\n",
    "* `partition()` - Returns a tuple where the string is parted into three parts\n",
    "* `replace()` - Returns a string where a specified value is replaced with a specified value\n",
    "* `rfind()` - Searches the string for a specified value and returns the last position of where it was found\n",
    "* `rindex()` - Searches the string for a specified value and returns the last position of where it was found\n",
    "* `rjust()` - Returns a right justified version of the string\n",
    "* `rpartition()` - Returns a tuple where the string is parted into three parts\n",
    "* `rsplit()` - Splits the string at the specified separator, and returns a list\n",
    "* `rstrip()` - Returns a right trim version of the string\n",
    "* `split()` - Splits the string at the specified separator, and returns a list\n",
    "* `splitlines()` - Splits the string at line breaks and returns a list\n",
    "* `startswith()` - Returns true if the string starts with the specified value\n",
    "* `strip()` - Returns a trimmed version of the string\n",
    "* `swapcase()` - Swaps cases, lower case becomes upper case and vice versa\n",
    "* `title()` - Converts the first character of each word to upper case\n",
    "* `translate()` - Returns a translated string\n",
    "* `upper()` - Converts a string into upper case\n",
    "* `zfill()` - Fills the string with a specified number of 0 values at the beginning\n",
    "\n",
    "You can use these in the same way as shown above."
   ]
  }
 ],
 "metadata": {
  "kernelspec": {
   "display_name": "Python 3",
   "language": "python",
   "name": "python3"
  },
  "language_info": {
   "codemirror_mode": {
    "name": "ipython",
    "version": 3
   },
   "file_extension": ".py",
   "mimetype": "text/x-python",
   "name": "python",
   "nbconvert_exporter": "python",
   "pygments_lexer": "ipython3",
   "version": "3.8.5"
  }
 },
 "nbformat": 4,
 "nbformat_minor": 4
}
