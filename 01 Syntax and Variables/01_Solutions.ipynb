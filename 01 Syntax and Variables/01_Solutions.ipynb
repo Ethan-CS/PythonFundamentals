{
 "cells": [
  {
   "cell_type": "markdown",
   "metadata": {},
   "source": [
    "# 01: Syntax and Variables Exercises\n",
    "\n",
    "These exercises should help you become more familiar with Python syntax and variables generally."
   ]
  },
  {
   "cell_type": "markdown",
   "metadata": {},
   "source": [
    "## Ex. 1: Character Input\n",
    "\n",
    "1. Create a program that asks the user to enter their name and age (think about how you will format these - two separate input variables for instance) and returns a message with their name and age.\n",
    "2. Print a message that tells the user the year in which they will turn 100 years old."
   ]
  },
  {
   "cell_type": "code",
   "execution_count": 5,
   "metadata": {},
   "outputs": [
    {
     "name": "stdout",
     "output_type": "stream",
     "text": [
      "What is your name?\n",
      " Ethan\n",
      "How old are you?\n",
      " 21\n",
      "Ethan will be 100 years old in either 2100 or 2099\n"
     ]
    }
   ],
   "source": [
    "# Solution\n",
    "import datetime \n",
    "\n",
    "# Gets the current year\n",
    "now = datetime.datetime.now()\n",
    "\n",
    "# Get name and age\n",
    "name = input(\"What is your name?\\n \")\n",
    "age = int(input(\"How old are you?\\n \"))\n",
    "\n",
    "# Year they will turn 100 (either that year or year before, depending on DOB)\n",
    "year = str((now.year - age)+100)\n",
    "print(f\"{name} will be 100 years old in either {year} or {int(year)-1}\")"
   ]
  },
  {
   "cell_type": "markdown",
   "metadata": {},
   "source": [
    "## Ex. 2: Odd or Even?\n",
    "\n",
    "1. Get a _number_ from the user and assign it to a variable `num`.\n",
    "2. Determine whether the number is odd or even and then print an appropriate message (hint: use the operator `%` - remainder).\n",
    "\n",
    "__Extras:__\n",
    "\n",
    "3. Print another message if the number is a multiple of four.\n",
    "4. Ask the user for two numbers (instead of just one):\n",
    "    * One number to check, other to divide by the number to check.\n",
    "    * If the first divides evenly into the second, tell the user. Otherwise, print another appropriate message."
   ]
  },
  {
   "cell_type": "code",
   "execution_count": 7,
   "metadata": {},
   "outputs": [
    {
     "name": "stdout",
     "output_type": "stream",
     "text": [
      "Please enter a number.\n",
      "99\n",
      "99 is odd.\n"
     ]
    }
   ],
   "source": [
    "# Solution\n",
    "\n",
    "# Get an int from the user\n",
    "num = int(input(\"Please enter a number.\\n\"))\n",
    "\n",
    "# Work out if it's divisible by four, by two (even) or odd.\n",
    "if num % 4 == 0:\n",
    "    print(f\"{num} is divisible by four.\")\n",
    "elif num % 2 == 0:\n",
    "    print(f\"{num} is even.\")\n",
    "else:\n",
    "    print(f\"{num} is odd.\")"
   ]
  },
  {
   "cell_type": "markdown",
   "metadata": {},
   "source": []
  }
 ],
 "metadata": {
  "kernelspec": {
   "display_name": "Python 3",
   "language": "python",
   "name": "python3"
  },
  "language_info": {
   "codemirror_mode": {
    "name": "ipython",
    "version": 3
   },
   "file_extension": ".py",
   "mimetype": "text/x-python",
   "name": "python",
   "nbconvert_exporter": "python",
   "pygments_lexer": "ipython3",
   "version": "3.8.5"
  }
 },
 "nbformat": 4,
 "nbformat_minor": 4
}
