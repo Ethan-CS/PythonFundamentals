{
 "cells": [
  {
   "cell_type": "markdown",
   "metadata": {},
   "source": [
    "# 01: Syntax and Variables Exercises\n",
    "\n",
    "These exercises should help you become more familiar with Python syntax and variables generally."
   ]
  },
  {
   "cell_type": "markdown",
   "metadata": {},
   "source": [
    "## 1: Character Input\n",
    "\n",
    "1. Create a program that asks the user to enter their name and age (think about how you will format these - two separate input variables for instance) and returns a message with their name and age.\n",
    "2. Print a message that tells the user the year in which they will turn 100 years old."
   ]
  },
  {
   "cell_type": "code",
   "execution_count": 1,
   "metadata": {},
   "outputs": [],
   "source": [
    "# Your solution goes here"
   ]
  },
  {
   "cell_type": "markdown",
   "metadata": {},
   "source": [
    "## Ex. 2: Odd or Even?\n",
    "\n",
    "1. Get a number from the user.\n",
    "2. Determine whether the number is odd or even and then print an appropriate message (hint: use the operator `%` - remainder).\n",
    "\n",
    "__Extras:__\n",
    "\n",
    "3. Print another message if the number is a multiple of four.\n",
    "4. Ask the user for two numbers (instead of just one):\n",
    "    * One number to check, other to divide by the number to check.\n",
    "    * If the first divides evenly into the second, tell the user. Otherwise, print another appropriate message."
   ]
  },
  {
   "cell_type": "code",
   "execution_count": null,
   "metadata": {},
   "outputs": [],
   "source": [
    "# Your solution goes here"
   ]
  }
 ],
 "metadata": {
  "kernelspec": {
   "display_name": "Python 3",
   "language": "python",
   "name": "python3"
  },
  "language_info": {
   "codemirror_mode": {
    "name": "ipython",
    "version": 3
   },
   "file_extension": ".py",
   "mimetype": "text/x-python",
   "name": "python",
   "nbconvert_exporter": "python",
   "pygments_lexer": "ipython3",
   "version": "3.8.5"
  }
 },
 "nbformat": 4,
 "nbformat_minor": 4
}
