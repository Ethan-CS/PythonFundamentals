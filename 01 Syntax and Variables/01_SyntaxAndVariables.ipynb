{
 "cells": [
  {
   "cell_type": "markdown",
   "metadata": {},
   "source": [
    "# Python Fundamentals 1: Syntax and Variables\n",
    "\n",
    "This Jupyter Notebook will introduce you to the fundamentals of Python (and programming generally), as well as the use of Jupyter notebooks - a very useful tool in data science. This notebook assumes that you already have Python installed!\n",
    "\n",
    "To get the most out of these notebooks, I would encourage you to interact with each Python cell - change values, names, use new methods, copy-paste into wherever you edit Python files and use the code however you like. Have fun with it and see what you can get out of it!"
   ]
  },
  {
   "cell_type": "markdown",
   "metadata": {},
   "source": [
    "## Hello World!\n",
    "\n",
    "The first task _any_ programmer learns to complete is the \"Hello world\" exercise - printing the phrase \"Hello world\" to the 'standard output' - this is sometimes called the console, terminal and so on.\n",
    "\n",
    "### Exercise 1: Hello, world!\n",
    "\n",
    "Instead of creating a new Python file, we're going to use this Jupyter notebook to run the hello world program. In the empty cell below, type\n",
    "```python\n",
    "print(\"Hello, World!\")\n",
    "```\n",
    "and hit shift + enter. You should see the output just below the box where you typed the code."
   ]
  },
  {
   "cell_type": "code",
   "execution_count": null,
   "metadata": {},
   "outputs": [],
   "source": []
  },
  {
   "cell_type": "markdown",
   "metadata": {},
   "source": [
    "## Python Syntax\n",
    "\n",
    "Syntax in programming refers to the rules that dictate the correct way to give orders to the computer. For instance, in Java you end a line with a semicolon and in Python, you use indentation (space at the start of a line of code) to indicate a dependent block of code. Let's see an example.\n",
    "\n",
    "\n",
    "I'm going to use a logical test that I know to be true: 2 + 2 = 4. My code to illustrate the way we use indents in Python will start by checking whether this is true (which, of course, it will be) and then, if it is true,  print a message to the standard output. I'm going to write this two ways - the first will have the correct indent, the second won't - compare the difference between the two."
   ]
  },
  {
   "cell_type": "code",
   "execution_count": 20,
   "metadata": {},
   "outputs": [
    {
     "name": "stdout",
     "output_type": "stream",
     "text": [
      "Two plus two is four!\n"
     ]
    }
   ],
   "source": [
    "# Correct indentation\n",
    "if 2 + 2 == 4:\n",
    "    print(\"Two plus two is four!\")"
   ]
  },
  {
   "cell_type": "code",
   "execution_count": 4,
   "metadata": {},
   "outputs": [
    {
     "ename": "IndentationError",
     "evalue": "expected an indented block (<ipython-input-4-0ef1606ceb93>, line 3)",
     "output_type": "error",
     "traceback": [
      "\u001b[1;36m  File \u001b[1;32m\"<ipython-input-4-0ef1606ceb93>\"\u001b[1;36m, line \u001b[1;32m3\u001b[0m\n\u001b[1;33m    print(\"Two plus two is four!\")\u001b[0m\n\u001b[1;37m    ^\u001b[0m\n\u001b[1;31mIndentationError\u001b[0m\u001b[1;31m:\u001b[0m expected an indented block\n"
     ]
    }
   ],
   "source": [
    "# Incorrect indentation\n",
    "if 2 + 2 == 4:\n",
    "print(\"Two plus two is four!\")"
   ]
  },
  {
   "cell_type": "markdown",
   "metadata": {},
   "source": [
    "You can see the second version, which does not have an indent, returns an `IndentationError` - this is Python telling me I've made a mistake with my indentation in my code, which I have. This is crucial - in most other programming languages, indentation is there to help code readability, but Python places specific meaning on indents.\n",
    "\n",
    "I can choose how I want to indent in Python - in the above example, the correct code snippet used a usual indent, which is equivalent to 4 spaces (achieved by hitting the tab key), but I might instead choose 1 or 2 spaces. In that case, I would have to ensure all of the indents in my entire Python file were consistent, or again I'd get an error (say if I used 2 spaces to indent one code block and the usual 4 spaces somewhere else)."
   ]
  },
  {
   "cell_type": "markdown",
   "metadata": {},
   "source": [
    "## Variables\n",
    "\n",
    "We can assign names to values in Python, which are called variables. Variables act like containers for values - they can be accessed whenever you like, changed, overwritten - whatever you like. For instance:"
   ]
  },
  {
   "cell_type": "code",
   "execution_count": 12,
   "metadata": {},
   "outputs": [
    {
     "name": "stdout",
     "output_type": "stream",
     "text": [
      "10\n",
      "Hello :)\n"
     ]
    }
   ],
   "source": [
    "a = 10\n",
    "hello = \"Hello :)\"\n",
    "  \n",
    "print(a)      # This should print the number 10\n",
    "print(hello)  # This should print the message \"Hello :)\""
   ]
  },
  {
   "cell_type": "markdown",
   "metadata": {},
   "source": [
    "#### Variable Types\n",
    "\n",
    "Sometimes we need to specify what type of variable we're storing - that is, in example 2, I had one variable that stored an integer number and another that stored a 'string', which is a sequence of characters. There are other types too:\n",
    "* `int` - a whole number (no decimals or fractions), can be positive or negative.\n",
    "* `float` - A number with a decimal part to it, named after floating point representation (the common way we write decimal numbers) such as 3.14 or 2.0\n",
    "* `complex` - a number with both real and imaginary parts, where imaginary refers to $i = \\sqrt{-1}$, represented in the form `x + 2y`.\n",
    "* `bool` - a Boolean value, which is either `True` or `False` - note the capital letters!\n",
    "* `String` - a sequence of characters, which must be surrounded by quote marks (single, double or triple are all accepted).\n",
    "* `List` - An ordered collection of data items, which don't need to be of the same type, inside of square brackets, e.g. `[1, 7.9, \"Hello\", complex(1,3)]`\n",
    "* `Tuple` - Same as a list, but in ordinary brackets, e.g. `(1, 7.9, \"Hello\", complex(1,3))`\n",
    "* `Dictionary` - an unordered collection of data stored in a key:value form, e.g. `{\"Name\":\"Ethan\", \"DOB\":29041999, \"Favourite Food\":\"Mashed Potato\"}`.\n",
    "\n",
    "Say I wanted to get a user's age from the standard input. I would use the function `input()` to get the age and perhaps assign it to a variable `age`, like so:"
   ]
  },
  {
   "cell_type": "code",
   "execution_count": 13,
   "metadata": {},
   "outputs": [
    {
     "name": "stdout",
     "output_type": "stream",
     "text": [
      "Please enter your age: 21\n",
      "You are 21 years old.\n"
     ]
    }
   ],
   "source": [
    "age = input(\"Please enter your age: \")\n",
    "print(f\"You are {age} years old.\")"
   ]
  },
  {
   "cell_type": "markdown",
   "metadata": {},
   "source": [
    "By default, Python assumes that the input I obtained is a string (`str`). Hence, if I wanted to do anything numerical with this age, like compare it to another number and see who is older or add it to another number and find a combined age, I would have to tell Python that the input I obtained was an integer. This is called _casting_, and in this example I would need to wrap the `input(\"...\")` function inside of `int()`, like so:"
   ]
  },
  {
   "cell_type": "code",
   "execution_count": 14,
   "metadata": {},
   "outputs": [
    {
     "name": "stdout",
     "output_type": "stream",
     "text": [
      "Please enter your age: 21\n",
      "You are 21 years old.\n"
     ]
    }
   ],
   "source": [
    "age = int(input(\"Please enter your age: \"))\n",
    "print(f\"You are {age} years old.\")"
   ]
  },
  {
   "cell_type": "markdown",
   "metadata": {},
   "source": [
    "I can get the type of a variable back, too: for this, I use the `type()` function."
   ]
  },
  {
   "cell_type": "code",
   "execution_count": 15,
   "metadata": {},
   "outputs": [
    {
     "name": "stdout",
     "output_type": "stream",
     "text": [
      "<class 'float'>\n",
      "<class 'str'>\n"
     ]
    }
   ],
   "source": [
    "pi = 3.14\n",
    "name = \"Ethan\"\n",
    "\n",
    "print(type(pi))    # Tells me what type of variable pi is\n",
    "print(type(name))  # Tells me what type of variable name is"
   ]
  },
  {
   "cell_type": "markdown",
   "metadata": {},
   "source": [
    "#### Variable name conventions\n",
    "\n",
    " There are a few rules about variable names that you need to follow and a few that you should follow. Variable names must start with either a letter or the underscore character, they cannot start with a number (but can contain numbers elsewhere), can contain only alphanumeric characters and undersocres and they are case sensitive.\n",
    " \n",
    " It's the programmer's choice as to what naming convention for variables they would like to follow. The common three are:\n",
    " * Camel case: `myVariableName`\n",
    " * Pascal case: `MyVariableName`\n",
    " * Snake case: `my_variable_name`\n",
    " \n",
    " #### Multiple variables\n",
    " \n",
    " You can simplify your code using multiple variables to:\n",
    " * Assign several variables at one time,\n",
    " * Assign several variables the same value,\n",
    " * _Unpack_ a list/tuple/etc."
   ]
  },
  {
   "cell_type": "code",
   "execution_count": 24,
   "metadata": {},
   "outputs": [
    {
     "name": "stdout",
     "output_type": "stream",
     "text": [
      "First Second Third\n",
      "Fourth Fourth Fourth\n",
      "Ethan Ben Ponyo\n"
     ]
    }
   ],
   "source": [
    "# Assign several variables to several values\n",
    "a, b, c = \"First\", \"Second\", \"Third\"\n",
    "# Here, '+' means print a AND print a space AND print b AND ...\n",
    "print(a + \" \" + b + \" \"+ c)\n",
    "\n",
    "# Assign several variables to the same values\n",
    "d = e = f = \"Fourth\"\n",
    "print(d + \" \" + e + \" \" + f)\n",
    "\n",
    "# Unpacking a list\n",
    "my_list = [\"Ethan\", \"Ben\", \"Ponyo\"]\n",
    "me, you, ponyo = my_list\n",
    "print(me + \" \" + you + \" \" + ponyo)"
   ]
  },
  {
   "cell_type": "markdown",
   "metadata": {},
   "source": [
    "#### Global variables\n",
    "\n",
    "If you create a variable outside of any function, it's known as a _global variable._ They can be used inside and outside of your functions. If you go on to create a variable of the same name inside of a function, that's an example of a _local variable_ and will not overwrite the global variable generally, just for that particular function. If we really want to, we can declare a global variable inside of a method using the keyword 'global'."
   ]
  },
  {
   "cell_type": "code",
   "execution_count": 39,
   "metadata": {},
   "outputs": [
    {
     "name": "stdout",
     "output_type": "stream",
     "text": [
      "Global variables initially: Ethan, Yellow\n",
      "This is Ethan's function. My favourite colour is Yellow.\n",
      "This is Ben's function. My favourite colour is that one specific shade of blue.\n",
      "Global variables now: Ethan, that one specific shade of blue\n"
     ]
    }
   ],
   "source": [
    "# Global variables\n",
    "me = \"Ethan\"\n",
    "fav_colour = \"Yellow\"\n",
    "\n",
    "print(\"Global variables initially: \" + me + \", \" + fav_colour)\n",
    "\n",
    "def my_original_function():  # This is how we define a new function\n",
    "    # Try printing with the global variables\n",
    "    print(f\"This is {me}'s function. My favourite colour is {fav_colour}.\")\n",
    "    \n",
    "    \n",
    "def my_new_function():\n",
    "    # Locally overwrite the first global variable\n",
    "    me = \"Ben\"\n",
    "    # Use global keyword to overwrite variable globally\n",
    "    global fav_colour\n",
    "    fav_colour = \"that one specific shade of blue\"\n",
    "    \n",
    "    # Try printing with the locally overwritten global variables\n",
    "    print(f\"This is {me}'s function. My favourite colour is {fav_colour}.\")\n",
    "    \n",
    "    \n",
    "my_original_function()\n",
    "my_new_function()\n",
    "# What is the value of the variable now, Ethan or Ben?\n",
    "print(\"Global variables now: \" + me + \", \" + fav_colour)"
   ]
  },
  {
   "cell_type": "code",
   "execution_count": null,
   "metadata": {},
   "outputs": [],
   "source": []
  }
 ],
 "metadata": {
  "kernelspec": {
   "display_name": "Python 3",
   "language": "python",
   "name": "python3"
  },
  "language_info": {
   "codemirror_mode": {
    "name": "ipython",
    "version": 3
   },
   "file_extension": ".py",
   "mimetype": "text/x-python",
   "name": "python",
   "nbconvert_exporter": "python",
   "pygments_lexer": "ipython3",
   "version": "3.8.5"
  }
 },
 "nbformat": 4,
 "nbformat_minor": 4
}
