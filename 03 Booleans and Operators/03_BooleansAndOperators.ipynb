{
 "cells": [
  {
   "cell_type": "markdown",
   "metadata": {},
   "source": [
    "# Python Fundamentals 3: Booleans and Operators\n",
    "\n",
    "## Booleans \n",
    "\n",
    "We saw previously that Booleans take the value `True` or `False`, they can't be anything else. We can evaluate lots of things to a boolean value, such as `10 > 5` (true) or `25 == 5` (false). This is invaluable when creating code involving if-else statements. We can make a function return a boolean value, like so:"
   ]
  },
  {
   "cell_type": "code",
   "execution_count": 1,
   "metadata": {},
   "outputs": [
    {
     "name": "stdout",
     "output_type": "stream",
     "text": [
      "True\n"
     ]
    }
   ],
   "source": [
    "def boolean_function() :\n",
    "    return True\n",
    "\n",
    "if boolean_function() :\n",
    "    print(\"True\")\n",
    "else:\n",
    "    print(\"False\")"
   ]
  },
  {
   "cell_type": "markdown",
   "metadata": {},
   "source": [
    "## Operators\n",
    "\n",
    "In Python, we have a number of different types of operator:\n",
    "* Arithmetic\n",
    "* Assignment\n",
    "* Comparison\n",
    "* Logical\n",
    "* Identity\n",
    "* Membership\n",
    "* Bitwise\n",
    "\n",
    "\n",
    "### Arithmetic operators\n",
    "\n",
    "* `+` is addition\n",
    "* `-` is subtraction\n",
    "* `*` is multiplication\n",
    "* `/` is division\n",
    "* `%` is the modulus function (gives the remainder when we divide two numbers)\n",
    "* `**` is exponentiation (i.e. `x**y` means x^y)\n",
    "* `//` is floor division (divides two numbers and always rounds the result down to the nearest integer)\n",
    "\n",
    "\n",
    "### Assignment Operators\n",
    "\n",
    "Assignment operators can be hard to explain in words, so stick with my notation. Most of these are short hands, you don't need to use them but you should!\n",
    "\n",
    "* `x = y`: just assigns x to the value of y.\n",
    "* `x += y`: `x = x + y`\n",
    "* `x -= y`: `x = x - y`\n",
    "* `x *= y`: `x = x * y`\n",
    "* `x /= y`: `x = x / y` \n",
    "* `x %= y`: `x = x % y` (x equals the remainder of x divided by y)\n",
    "* `x //= y`: `x = x // y` (x equals x divided by y rounded down to the nearest whole number)\n",
    "* `x **= y`: `x = x ** y` (x equals x to the power of y, $x^y$)\n",
    "* `x &= y`: `x = x & y` (x equals x _AND_ y, more on `&` later in bitwise operators)\n",
    "* `x |= y`: `x = x | y` (x equals x _OR_ y, more on `|` later in bitwise operators)\n",
    "* `x ^= y`: `x = x ^ y` (same as `**`)\n",
    "* `x >>= y`: `x = x >> y` (x with bits shifted to the right by y places, don't worry too much about this)\n",
    "* `x <<= y`: `x = x << y` (x with bits shifted to the left by y places, again don't worry)\n",
    "\n",
    "\n",
    "### Comparison Operators\n",
    "\n",
    "* `==` - Equal to\n",
    "* `!=` - Not equal to\n",
    "* `>` - Greater than\n",
    "* `<` - Less than\n",
    "* `>=` - Greater than or equal to\n",
    "* `<=` - Less than or equal to\n",
    "\n",
    "\n",
    "### Logical Operators\n",
    "\n",
    "* `and` - Returns `True` if both statements are true, `False` otherwise\n",
    "* `or` - Returns `True` if either of the statements are true (or both), `False` otherwise\n",
    "* `not` - Returns `False` if the statement is true, `True` if the statement is false\n",
    "\n",
    "\n",
    "### Identity Operators\n",
    "\n",
    "* `in` - Returns `True` if a sequence with specified value is present in the given object\n",
    "* `not in` - Returns `True` if a sequence with specified value is _not_ present in the object.\n",
    "\n",
    "\n",
    "### Bitwise Operators\n",
    "\n",
    "Don't pay much attention to these, I've never had to use them much personally...\n",
    "* `&` - \"AND\" - Sets each bit to 1 if both bits are 1\n",
    "* `|` - \"OR\" - Sets each bit to 1 if one of two bits is 1\n",
    "* `^` - \"XOR\" - Sets each bit to 1 if only one of two bits is 1\n",
    "* `~` - \"NOT\" - Inverts all bits\n",
    "* `<<` - \"Zero fill left shift\" - Shift left by pushing zeros in from the right and let the leftmost bits fall off\n",
    "* `>>` - \"Signed right shift\" - Shift right by pushing copies of the leftmost bit in from the left, and let the rightmost bits fall off"
   ]
  },
  {
   "cell_type": "code",
   "execution_count": null,
   "metadata": {},
   "outputs": [],
   "source": []
  }
 ],
 "metadata": {
  "kernelspec": {
   "display_name": "Python 3",
   "language": "python",
   "name": "python3"
  },
  "language_info": {
   "codemirror_mode": {
    "name": "ipython",
    "version": 3
   },
   "file_extension": ".py",
   "mimetype": "text/x-python",
   "name": "python",
   "nbconvert_exporter": "python",
   "pygments_lexer": "ipython3",
   "version": "3.8.5"
  }
 },
 "nbformat": 4,
 "nbformat_minor": 4
}
