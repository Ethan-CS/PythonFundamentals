{
 "cells": [
  {
   "cell_type": "markdown",
   "metadata": {},
   "source": [
    "# 03: Booleans and Operators Exercises\n",
    "\n",
    "## Task 1: Variables and Booleans"
   ]
  },
  {
   "cell_type": "markdown",
   "metadata": {},
   "source": [
    "1. Declare a variable named `yep` and give it the string value \"It is less than 2\"\n",
    "2. Write a comment above that variable (e.g. \"Assign the string to a variable\")"
   ]
  },
  {
   "cell_type": "code",
   "execution_count": 1,
   "metadata": {},
   "outputs": [],
   "source": [
    "# Your solution goes here"
   ]
  },
  {
   "cell_type": "markdown",
   "metadata": {},
   "source": [
    "3. Create a variable `i` that takes the integer value 1. Again, write a suitable comment.\n",
    "4. Create a variable named `check` assigned to the logic test `i < 2`.\n",
    "4. Write an `if` statement that checks if the variable `i` is less than two using the variable `check`. If this is true, print the variable `yep` that you assigned before. _TIP: You don't need to declare `yep` again, you can think of all code cell in a notebook as being one Python file._"
   ]
  },
  {
   "cell_type": "code",
   "execution_count": 2,
   "metadata": {},
   "outputs": [],
   "source": [
    "# Your solution goes here"
   ]
  },
  {
   "cell_type": "markdown",
   "metadata": {},
   "source": [
    "## Task 2: Boolean practice\n",
    "\n",
    "Below are some boolean statements that evaluate to `True` or `False`. Write them out on paper and, for each one, write down whether it evaluates to `True` or `False`. Once you've done that, we're going to open a Python _terminal_ to see if you got it right.\n",
    "\n",
    "1. `True and True`\n",
    "2. `False and True`\n",
    "3. `1 == 1 and 2 == 1`\n",
    "4. `\"test\" == \"test\"`\n",
    "5. `1 == 1 or 2 != 1`\n",
    "6. `True and 1 == 1`\n",
    "7. `False and 0 != 0`\n",
    "8. `True or 1 == 1`\n",
    "9. `\"test\" == \"testing\"`\n",
    "10. `1 != 0 and 2 == 1`\n",
    "11. `\"test\" != \"testing\"`\n",
    "12. `\"test\" == 1`\n",
    "13. `not (True and False)`\n",
    "14. `not (1 == 1 and 0 != 1)`\n",
    "15. `not (10 == 1 or 1000 == 1000)`\n",
    "16. `not (1 != 10 or 3 == 4)`\n",
    "17. `not (\"testing\" == \"testing\" and \"Ethan\" == \"Cool Guy\")`\n",
    "18. `1 == 1 and not (\"testing\" == 1 or 1 == 0)`\n",
    "19. `\"chunky\" == \"bacon\" and not (3 == 4 or 3 == 3)`\n",
    "20. `3 == 3 and not (\"testing\" == \"testing\" or \"Python\" == \"Fun\")`\n",
    "\n",
    "Here is a process you might like to follow:\n",
    "* Find any equality tests (`==` or `!=`) and replace with truth value (`True`/`False`).\n",
    "* Find each `and`/`or` inside brackets and solve that first, again replacing by truth values.\n",
    "* Find each negation (`not`) and replace with the appropriate truth value.\n",
    "* Find any remaining `and`/`or` and replace with truth values.\n",
    "* You should have a single truth value now.\n",
    "\n",
    "E.g.\n",
    "```python\n",
    "3 != 4 and not (\"testing\" != \"test\" or \"Python\" == \"Python\")\n",
    "```\n",
    "Find equality tests and replace:\n",
    "\n",
    "```python\n",
    "True and not (True or True)\n",
    "```\n",
    "Find `and`/`or` inside brackets:\n",
    "```python\n",
    "True and not (True)\n",
    "```\n",
    "Find negations and evaluate:\n",
    "```python\n",
    "True and False\n",
    "```\n",
    "Find remaining `and`/`or` and evaluate:\n",
    "```python\n",
    "False\n",
    "```\n",
    "And indeed, I'm just left with a single truth value - `False`."
   ]
  },
  {
   "cell_type": "markdown",
   "metadata": {},
   "source": [
    "__Your Solutions:__\n",
    "\n",
    "This is an empty Markdown cell (as opposed to code). This is how I write the explanations and so on - when you hit run, it will format nicely according to [these rules](https://www.markdownguide.org/basic-syntax/). Double click on this text to enter the Markdown cell and enter your answers - I've written a list so you can record your answers, but you can of course use a pen and paper if you prefer.\n",
    "\n",
    "1. \n",
    "2. \n",
    "3. \n",
    "4. \n",
    "5. \n",
    "6. \n",
    "7. \n",
    "8. \n",
    "9. \n",
    "10. \n",
    "11. \n",
    "12. \n",
    "13. \n",
    "14. \n",
    "15. \n",
    "16. \n",
    "17. \n",
    "18. \n",
    "19. \n",
    "20. "
   ]
  },
  {
   "cell_type": "markdown",
   "metadata": {},
   "source": [
    "Now, let's check your answers! On Mac:\n",
    "\n",
    "* Open Launchpad and search for Terminal (if you navigate to it, it might be in your `Others` folder)\n",
    "* Open the terminal and inside, type Python.\n",
    "\n",
    "You've now opened up a Python terminal! Here, you can type snippets of Python code (like the logic statements above) and the code will run. If you want to exit this Python environment, just type `exit()` and hit enter. This should take you back to your regular command line.\n",
    "\n",
    "In your Python terminal, type the first statement inside of a `print()` statement, i.e. type `print(True and True)` and you should get back `True`.\n",
    "\n",
    "```python\n",
    ">>> print(True and True)\n",
    "True\n",
    ">>>\n",
    "```\n",
    "\n",
    "Try the next one in the same way - remember to wrap each logical statement to test inside of the brackets of `print()`, so you can see what the result is."
   ]
  },
  {
   "cell_type": "code",
   "execution_count": null,
   "metadata": {},
   "outputs": [],
   "source": []
  }
 ],
 "metadata": {
  "kernelspec": {
   "display_name": "Python 3",
   "language": "python",
   "name": "python3"
  },
  "language_info": {
   "codemirror_mode": {
    "name": "ipython",
    "version": 3
   },
   "file_extension": ".py",
   "mimetype": "text/x-python",
   "name": "python",
   "nbconvert_exporter": "python",
   "pygments_lexer": "ipython3",
   "version": "3.8.5"
  }
 },
 "nbformat": 4,
 "nbformat_minor": 4
}
