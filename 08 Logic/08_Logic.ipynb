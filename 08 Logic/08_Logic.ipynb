{
 "cells": [
  {
   "cell_type": "markdown",
   "metadata": {},
   "source": [
    "# Python Fundamentals 8: Logic\n",
    "\n",
    "Perhaps the most important part of learning to code is finding out how to apply logical tests and run separate code in different cases. Here, we will see some logical operators and ways in which we can use these to run specific code in specific cases and how that comes in handy for us.\n",
    "\n",
    "## Conditions and `if` statements\n",
    "\n",
    "Python supports the usual logical conditions that we get from maths, which we write in the followig way:\n",
    "* Equality: `a == b` - note that this is a double equals, a single equals sign assigns a value to a variable and a double checks for equality.\n",
    "* Not equal: `a != b`\n",
    "* Less than: `a < b`\n",
    "* Less than or equal to: `a <= b`\n",
    "* Greater than: `a > b`\n",
    "* Greater than or equal to: `a >= b`\n",
    "\n",
    "Using these conditions, we can introduce the idea of an `if` statement. We use `if` to introduce the first logical test: if this is true, then we perform the action indented below this statement. If that fails however, we move on to `elif` which stands for else if, which checks another condition and runs some code if it is true (another print statement). If neither of these first conditions are true, Python moves to the final block which is an `else` block, which catches anything else (it has no condition to check)."
   ]
  },
  {
   "cell_type": "code",
   "execution_count": 3,
   "metadata": {},
   "outputs": [
    {
     "name": "stdout",
     "output_type": "stream",
     "text": [
      "a = 300 is greater than b = 75\n",
      "b = 200 is equal to a = 200\n",
      "b = 100 is greater than a = 10\n"
     ]
    }
   ],
   "source": [
    "# If b is greater than a, print this fact\n",
    "def check_size(a, b) :\n",
    "    if b > a :\n",
    "        print(f\"b = {b} is greater than a = {a}\")\n",
    "    elif b == a :\n",
    "        print(f\"b = {b} is equal to a = {a}\")\n",
    "    else :\n",
    "        print(f\"a = {a} is greater than b = {b}\")\n",
    "        \n",
    "check_size(300, 75)\n",
    "check_size(200, 200)\n",
    "check_size(10, 100)"
   ]
  },
  {
   "cell_type": "markdown",
   "metadata": {},
   "source": [
    "We can introduce some more logic here, too using `and` and `or`:"
   ]
  },
  {
   "cell_type": "code",
   "execution_count": 20,
   "metadata": {},
   "outputs": [
    {
     "name": "stdout",
     "output_type": "stream",
     "text": [
      "7 is prime.\n",
      "99 is not prime.\n"
     ]
    }
   ],
   "source": [
    "# Checks if a number is prime or not\n",
    "import math\n",
    "\n",
    "def is_prime(n):\n",
    "    if n == 2:\n",
    "        return True\n",
    "    # If n is even or less than/equal to 1 (or both), not prime\n",
    "    if n % 2 == 0 or n <= 1:\n",
    "        return False\n",
    "\n",
    "    sqrt = int(math.sqrt(n)) + 1\n",
    "\n",
    "    # For loop\n",
    "    for divisor in range(3, sqrt, 2):\n",
    "        # Nested if\n",
    "        if n % divisor == 0:\n",
    "            return False\n",
    "    return True\n",
    "\n",
    "if (is_prime(7)) :\n",
    "    print(\"7 is prime.\")\n",
    "else :\n",
    "    print(\"7 is not prime.\")\n",
    "    \n",
    "if (is_prime(99)) :\n",
    "    print(\"99 is prime.\")\n",
    "else :\n",
    "    print(\"99 is not prime.\")"
   ]
  },
  {
   "cell_type": "markdown",
   "metadata": {},
   "source": [
    "## Loops\n",
    "\n",
    "Some things we've used without much comment up until now are loops. These can be implemented as a `for` or a `while` loop:"
   ]
  },
  {
   "cell_type": "code",
   "execution_count": 21,
   "metadata": {},
   "outputs": [
    {
     "name": "stdout",
     "output_type": "stream",
     "text": [
      "0\n",
      "1\n",
      "2\n",
      "3\n",
      "4\n",
      "5\n",
      "\n",
      "0\n",
      "1\n",
      "2\n",
      "3\n",
      "4\n"
     ]
    }
   ],
   "source": [
    "# While Loop\n",
    "i = 0\n",
    "while i < 7 :\n",
    "    print(i)\n",
    "    i += 1  # Very important to increment i, otherwise you're stuck in an infinite loop...\n",
    "    \n",
    "print()    \n",
    "    \n",
    "# This time, end the loop when we reach 4    \n",
    "i = 0\n",
    "while True :  # Even more danger of getting stuck in an infinite loop here...\n",
    "    print(i)\n",
    "    if i == 4 :\n",
    "        break\n",
    "    else :\n",
    "        i += 1"
   ]
  },
  {
   "cell_type": "code",
   "execution_count": 31,
   "metadata": {},
   "outputs": [
    {
     "name": "stdout",
     "output_type": "stream",
     "text": [
      "lemon\n",
      "lime\n",
      "orange\n",
      "\n",
      "l\n",
      "e\n",
      "m\n",
      "o\n",
      "n\n",
      "\n",
      "lemon\n",
      "lime\n",
      "\n",
      "0\n",
      "1\n",
      "2\n",
      "3\n",
      "4\n"
     ]
    }
   ],
   "source": [
    "# For loop\n",
    "citrus = [\"lemon\", \"lime\", \"orange\"]\n",
    "\n",
    "# Print all elements in citrus list\n",
    "for x in citrus :\n",
    "    print(x)\n",
    "    \n",
    "print()\n",
    "    \n",
    "# Print all letters in the first element in the citrus list\n",
    "for y in citrus[0]:\n",
    "    print(y)\n",
    "    \n",
    "print()\n",
    "    \n",
    "# Print all elements up to a certain element from citrus list\n",
    "for z in citrus :\n",
    "    if z == \"orange\" :\n",
    "        break\n",
    "    print(z)\n",
    "    \n",
    "print()\n",
    "    \n",
    "# Using the range function, which returns a sequence \n",
    "# of numbers from 0 (inclusive) to the number specified (exclusive)\n",
    "for a in range(5) :\n",
    "    print(a)"
   ]
  },
  {
   "cell_type": "markdown",
   "metadata": {},
   "source": [
    "## Nested Loops\n",
    "\n",
    "This can be a really hard topic to get your head around, but don't panic! Look at this example and see if you can make sense of why it outputs what it does."
   ]
  },
  {
   "cell_type": "code",
   "execution_count": 34,
   "metadata": {},
   "outputs": [
    {
     "name": "stdout",
     "output_type": "stream",
     "text": [
      "1 a\n",
      "1 b\n",
      "1 c\n",
      "1 d\n",
      "1 e\n",
      "2 a\n",
      "2 b\n",
      "2 c\n",
      "2 d\n",
      "2 e\n",
      "3 a\n",
      "3 b\n",
      "3 c\n",
      "3 d\n",
      "3 e\n"
     ]
    }
   ],
   "source": [
    "numbers = [1, 2, 3]\n",
    "letters = [\"a\", \"b\", \"c\", \"d\", \"e\"]\n",
    "\n",
    "for number in numbers :\n",
    "    for letter in letters :\n",
    "        print(f\"{number} {letter}\")"
   ]
  },
  {
   "cell_type": "code",
   "execution_count": null,
   "metadata": {},
   "outputs": [],
   "source": []
  }
 ],
 "metadata": {
  "kernelspec": {
   "display_name": "Python 3",
   "language": "python",
   "name": "python3"
  },
  "language_info": {
   "codemirror_mode": {
    "name": "ipython",
    "version": 3
   },
   "file_extension": ".py",
   "mimetype": "text/x-python",
   "name": "python",
   "nbconvert_exporter": "python",
   "pygments_lexer": "ipython3",
   "version": "3.8.5"
  }
 },
 "nbformat": 4,
 "nbformat_minor": 4
}
