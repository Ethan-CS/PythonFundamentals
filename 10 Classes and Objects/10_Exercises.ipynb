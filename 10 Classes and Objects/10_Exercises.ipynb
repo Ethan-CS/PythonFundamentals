{
 "cells": [
  {
   "cell_type": "markdown",
   "metadata": {},
   "source": [
    "# 10: Exercises\n"
   ]
  },
  {
   "cell_type": "markdown",
   "metadata": {},
   "source": [
    "1. Create a class named `Vehicle`.\n",
    "    * Give the class attributes `max_speed` and `mileage`.\n",
    "    * Instantiate an object `car` with:\n",
    "        * `max_speed` of 120,\n",
    "        * `mileage` of 10,000\n",
    "    * Print these attributes _via an object reference._"
   ]
  },
  {
   "cell_type": "code",
   "execution_count": 1,
   "metadata": {},
   "outputs": [],
   "source": [
    "# Your solution goes here"
   ]
  },
  {
   "cell_type": "markdown",
   "metadata": {},
   "source": [
    "2. Create a child class `Bus` that:\n",
    "    * Inherits all of the variables and methods of the Vehicle class,\n",
    "    * Has another attribute: `capacity`, representing the number of people a bus object can seat.\n",
    "    * Make the `capacity` attribute have a default value of 60.\n",
    "    * Instantiate an object `megabus` with:\n",
    "        * Top speed 100,\n",
    "        * Mileage 100,000 and\n",
    "        * Capacty 80.\n",
    "    * Print these attributes _via an object reference._\n",
    "    * Print the _type_ of the `megabus` object (hint: use the `type()` method)\n",
    "    * Find out whether `megabus` is an instance of the parent `Vehicle` class (hint: use the `isinstance()` method)"
   ]
  },
  {
   "cell_type": "code",
   "execution_count": 2,
   "metadata": {},
   "outputs": [],
   "source": [
    "# Your solution goes here"
   ]
  },
  {
   "cell_type": "code",
   "execution_count": null,
   "metadata": {},
   "outputs": [],
   "source": []
  }
 ],
 "metadata": {
  "kernelspec": {
   "display_name": "Python 3",
   "language": "python",
   "name": "python3"
  },
  "language_info": {
   "codemirror_mode": {
    "name": "ipython",
    "version": 3
   },
   "file_extension": ".py",
   "mimetype": "text/x-python",
   "name": "python",
   "nbconvert_exporter": "python",
   "pygments_lexer": "ipython3",
   "version": "3.8.5"
  }
 },
 "nbformat": 4,
 "nbformat_minor": 4
}
