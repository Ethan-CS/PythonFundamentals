{
 "cells": [
  {
   "cell_type": "markdown",
   "metadata": {},
   "source": [
    "# 10: Solutions\n"
   ]
  },
  {
   "cell_type": "markdown",
   "metadata": {},
   "source": [
    "1. Create a class named `Vehicle`.\n",
    "    * Give the class attributes `max_speed` and `mileage`.\n",
    "    * Instantiate an object `car` with:\n",
    "        * `max_speed` of 120,\n",
    "        * `mileage` of 10,000\n",
    "    * Print these attributes _via an object reference._"
   ]
  },
  {
   "cell_type": "code",
   "execution_count": 8,
   "metadata": {},
   "outputs": [
    {
     "name": "stdout",
     "output_type": "stream",
     "text": [
      "The car has max speed 120 and mileage 10000\n"
     ]
    }
   ],
   "source": [
    "# Solution\n",
    "class Vehicle :\n",
    "    def __init__(self, max_speed, mileage) :\n",
    "        self.max_speed = max_speed\n",
    "        self.mileage = mileage\n",
    "        \n",
    "car = Vehicle(120, 10000)\n",
    "print(f\"The car has max speed {car.max_speed} and mileage {car.mileage}\")"
   ]
  },
  {
   "cell_type": "markdown",
   "metadata": {},
   "source": [
    "2. Create a child class `Bus` that:\n",
    "    * Inherits all of the variables and methods of the Vehicle class,\n",
    "    * Has another attribute: `capacity`, representing the number of people a bus object can seat.\n",
    "    * Make the `capacity` attribute have a default value of 60.\n",
    "    * Instantiate an object `megabus` with:\n",
    "        * Top speed 100,\n",
    "        * Mileage 100,000 and\n",
    "        * Capacty 80.\n",
    "    * Print these attributes _via an object reference._\n",
    "    * Print the _type_ of the `megabus` object (hint: use the `type()` method)\n",
    "    * Find out whether `megabus` is an instance of the parent `Vehicle` class (hint: use the `isinstance()` method)"
   ]
  },
  {
   "cell_type": "code",
   "execution_count": 9,
   "metadata": {},
   "outputs": [
    {
     "name": "stdout",
     "output_type": "stream",
     "text": [
      "The megabus has max speed 100, mileage 100000 and capacity 80.\n",
      "Megabus is of type <class '__main__.Bus'>\n",
      "Megabus is an instance of Vehicle: True\n"
     ]
    }
   ],
   "source": [
    "# Solution\n",
    "class Bus(Vehicle) :\n",
    "    def __init__(self, max_speed, mileage, capacity=60) :\n",
    "        super().__init__(max_speed, mileage)\n",
    "        self.capacity = capacity\n",
    "        \n",
    "megabus = Bus(100, 100000, 80)\n",
    "print(f\"The megabus has max speed {megabus.max_speed}, mileage {megabus.mileage} and capacity {megabus.capacity}.\")\n",
    "print(f\"Megabus is of type {type(megabus)}\") \n",
    "print(f\"Megabus is an instance of Vehicle: {isinstance(megabus, Vehicle)}\") # True"
   ]
  },
  {
   "cell_type": "code",
   "execution_count": null,
   "metadata": {},
   "outputs": [],
   "source": []
  }
 ],
 "metadata": {
  "kernelspec": {
   "display_name": "Python 3",
   "language": "python",
   "name": "python3"
  },
  "language_info": {
   "codemirror_mode": {
    "name": "ipython",
    "version": 3
   },
   "file_extension": ".py",
   "mimetype": "text/x-python",
   "name": "python",
   "nbconvert_exporter": "python",
   "pygments_lexer": "ipython3",
   "version": "3.8.5"
  }
 },
 "nbformat": 4,
 "nbformat_minor": 4
}
