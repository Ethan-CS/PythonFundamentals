{
 "cells": [
  {
   "cell_type": "markdown",
   "metadata": {},
   "source": [
    "# Python Fundamentals 10: Classes and Objects\n",
    "\n",
    "Python can be described as an _object oriented_ programming language. That means we're principally interested in objects, which are instances of classes - classes can be thought of as the blueprints for objects, if you prefer.\n",
    "\n",
    "_A class is a category of things having some property or attribute in common and different from each other in terms of their kind, type or quality._\n",
    "\n",
    "_An object is one instance of the class, whichc an perform any/all of the functions that are defined in the class._\n",
    "\n",
    "These will make more sense when we seem some examples.\n",
    "\n",
    "To create a class, we simply use the keyword `class` and then we can create an object of that class."
   ]
  },
  {
   "cell_type": "code",
   "execution_count": 19,
   "metadata": {},
   "outputs": [
    {
     "name": "stdout",
     "output_type": "stream",
     "text": [
      "10\n"
     ]
    }
   ],
   "source": [
    "# Creating a class\n",
    "class MyClass:\n",
    "    x = 10\n",
    "    \n",
    "# Create an object of the class MyClass\n",
    "object_of_class = MyClass()\n",
    "\n",
    "# Print the class attribute x of the object\n",
    "print(object_of_class.x)"
   ]
  },
  {
   "cell_type": "markdown",
   "metadata": {},
   "source": [
    "So, for classes an objects there are some really important key words and terms:\n",
    "* Class (keyword `class`) - a blueprint for individual objects with exact behaviours.\n",
    "* Object - a single instance of a class.\n",
    "* `self` - represents the instance of the class in question - we use this keyword to access attributes and methods of the class\n",
    "* `__init__()` - a reserved method in python, commonly known as a class constructor. This is called when we create an object of a method and it allows the class to initialise the attributes of a class.\n",
    "\n",
    "I realise that this sounds like nonsense so far, but hear me out. This all makes a lot of sense when you see how it works!"
   ]
  },
  {
   "cell_type": "code",
   "execution_count": 20,
   "metadata": {},
   "outputs": [
    {
     "name": "stdout",
     "output_type": "stream",
     "text": [
      "Fido is a brown dog with 4 legs.\n"
     ]
    }
   ],
   "source": [
    "# Class representing an animal\n",
    "class Animal(object):\n",
    "    \n",
    "    # Class constructor initialises the attributes of any instance of the class\n",
    "    def __init__(self, species, colour, legs):\n",
    "        self.species = species\n",
    "        self.colour = colour\n",
    "        self.legs = legs\n",
    "        \n",
    "    ## Function that returns the species of a given animal object    \n",
    "    def get_species(self) :\n",
    "        return self.species\n",
    "    \n",
    "    # Returns the colour of the given animal object\n",
    "    def get_colour(self) :\n",
    "        return self.colour\n",
    "    \n",
    "    # Returns the number of legs of the given animal object\n",
    "    def get_legs(self) :\n",
    "        return self.legs\n",
    "        \n",
    "fido = Animal(\"dog\",\"brown\",4)\n",
    "ethan = Animal(\"human\",\"white\",2)\n",
    "octopussy = Animal(\"octopus\",\"grey\",8)\n",
    "\n",
    "print(f\"Fido is a {fido.get_colour()} {fido.get_species()} with {fido.get_legs()} legs.\")"
   ]
  },
  {
   "cell_type": "markdown",
   "metadata": {},
   "source": [
    "## Class Inheritance\n",
    "\n",
    "We can create classes that 'inherit' from other classes - this means they get functionality from another class known as the _parent class._ The parent class `Parent` below contains a number of methods known as _getters,_ whose one purpose in life is to get the specified attribute of a given object (for which `self` is a placeholder) and return it when asked. This is the conventional way to access the attributes of an object, but in many circumstances you can miss this and instead access like `object.attribute`, e.g. to access the `name` of an object `me` then you could use `me.name`."
   ]
  },
  {
   "cell_type": "code",
   "execution_count": 21,
   "metadata": {},
   "outputs": [
    {
     "name": "stdout",
     "output_type": "stream",
     "text": [
      "This person's name is Ethan\n"
     ]
    }
   ],
   "source": [
    "# Parent class represents a person\n",
    "class Person(object) :\n",
    "    \n",
    "    def __init__(self, name, age, eye_colour) :\n",
    "        self.name = name\n",
    "        self.age = age\n",
    "        self.eye_colour = eye_colour\n",
    "        \n",
    "    def get_name(self) :\n",
    "        return self.name\n",
    "    \n",
    "    def get_age(self) :\n",
    "        return self.age\n",
    "    \n",
    "    def get_eye_colour(self) :\n",
    "        return self.eye_colour\n",
    "    \n",
    "    def print_name(self) :\n",
    "        print(f\"This person's name is {self.get_name()}\")\n",
    "    \n",
    "''' \n",
    "(This is a multiline comment)\n",
    "\n",
    "Child class represents a student, inherits from Person class.\n",
    "Note that we include Person in the brackets to  \n",
    "indicate that we're inheriting from the Person class.\n",
    "'''\n",
    "class Student(Person) :\n",
    "    pass  # This keyword means we don't want to add any properties/methods\n",
    "\n",
    "# Create a student object\n",
    "me = Student(\"Ethan\", 21, \"brown\")\n",
    "# Notice how there's no print_name method in the Student class\n",
    "# But we can still call this method (since it's in the parent class, Person)\n",
    "me.print_name()"
   ]
  },
  {
   "cell_type": "markdown",
   "metadata": {},
   "source": [
    "Now, perhaps we want the `Student` class to behave differently to the `Person` class it inherits from. We would need to write another `__init__` so that, when we create an object of this class, Python knows where to go to initialise the attributes assigned to it. We will refer to a function called `super()` inside of this function, which just points Python towards the `__init__` from the parent class (which can also be called the super class, hence the name `super()`)."
   ]
  },
  {
   "cell_type": "code",
   "execution_count": 22,
   "metadata": {},
   "outputs": [
    {
     "name": "stdout",
     "output_type": "stream",
     "text": [
      "Ethan hopes to graduate in 2023\n"
     ]
    }
   ],
   "source": [
    "class Student(Person) :\n",
    "    \n",
    "    def __init__(self, name, age, eye_colour, graduation_year) :\n",
    "        # A student will get at least the same attributes as the super class\n",
    "        super().__init__(name, age, eye_colour)\n",
    "        # Then, assign the new attribute (year of graduation)\n",
    "        self.graduation_year = graduation_year\n",
    "        \n",
    "    def get_graduation_year(self) :\n",
    "        return self.graduation_year\n",
    "    \n",
    "me = Student(\"Ethan\", 21, \"brown\", 2023)  # Notice we need an extra attribute\n",
    "print(f\"{me.get_name()} hopes to graduate in {me.get_graduation_year()}\")"
   ]
  },
  {
   "cell_type": "code",
   "execution_count": null,
   "metadata": {},
   "outputs": [],
   "source": []
  }
 ],
 "metadata": {
  "kernelspec": {
   "display_name": "Python 3",
   "language": "python",
   "name": "python3"
  },
  "language_info": {
   "codemirror_mode": {
    "name": "ipython",
    "version": 3
   },
   "file_extension": ".py",
   "mimetype": "text/x-python",
   "name": "python",
   "nbconvert_exporter": "python",
   "pygments_lexer": "ipython3",
   "version": "3.8.5"
  }
 },
 "nbformat": 4,
 "nbformat_minor": 4
}
