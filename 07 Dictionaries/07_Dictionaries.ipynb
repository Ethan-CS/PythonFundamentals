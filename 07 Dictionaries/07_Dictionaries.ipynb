{
 "cells": [
  {
   "cell_type": "markdown",
   "metadata": {},
   "source": [
    "# Python Fundamentals 7: Dictionaries\n",
    "\n",
    "Dictionaries are perhaps the most useful aspects of Python. They are used to store data in key:value pairs (we'll explain that shortly). A dictionary is an _ordered_ (as of Python 3.7) collection which is changeable and does not allow duplicates. We write a dictionary with curly brackets in key:value pairs. Here is an example dictionary, where each entry in the dictionary is someone's birthday. The key:value pair is name:birthday, and birthday contains both the month and the day the person's birthday."
   ]
  },
  {
   "cell_type": "code",
   "execution_count": 14,
   "metadata": {},
   "outputs": [
    {
     "name": "stdout",
     "output_type": "stream",
     "text": [
      "{'Benedikt': {'month': 'August', 'day': 1}, 'Ethan': {'month': 'April', 'day': 29}, 'Jess': {'month': 'December', 'day': 10}, 'Madonna Louise Ciccone': {'month': 'August', 'day': 16}, 'Stefani Joanne Angelina Germanotta': {'month': 'March', 'day': 28}}\n",
      "5\n"
     ]
    }
   ],
   "source": [
    "birthday_book = {\"Benedikt\": {\"month\": \"August\", \"day\": 1},\n",
    "                \"Ethan\": {\"month\": \"April\", \"day\": 29},\n",
    "                \"Jess\": {\"month\": \"December\", \"day\": 10},\n",
    "                \"Madonna Louise Ciccone\": {\"month\": \"August\", \"day\": 16},\n",
    "                \"Stefani Joanne Angelina Germanotta\": {\"month\": \"March\", \"day\": 28}\n",
    "                }\n",
    "print(birthday_book)       # Print the dictionary\n",
    "print(len(birthday_book))  # Print the length of the dictionary (how many entries we have)"
   ]
  },
  {
   "cell_type": "markdown",
   "metadata": {},
   "source": [
    "## Accessing Dictionary Items\n",
    "\n",
    "One of the benefits of using a dictionary is that we can access values via meaningful names, called keys."
   ]
  },
  {
   "cell_type": "code",
   "execution_count": 15,
   "metadata": {},
   "outputs": [
    {
     "name": "stdout",
     "output_type": "stream",
     "text": [
      "Ethan's birthday is April 29.\n",
      "Unfortunately, we don't know Lemon's birthday.\n"
     ]
    }
   ],
   "source": [
    "# The following function gets given a person's name and a birthday book\n",
    "# And returns the person's birthday if the birthday book contains an entry by that name\n",
    "\n",
    "def get_birthday(choice, dates):\n",
    "    # If the person you provided is in our birthday book, return their birthday\n",
    "    if choice in dates.keys():\n",
    "        # Get the month and day of the person's birthday\n",
    "        month = dates[choice][\"month\"]\n",
    "        day = dates[choice][\"day\"]\n",
    "        \n",
    "        # Print the full birthday and name\n",
    "        print(f\"{choice}'s birthday is {month} {day}.\")\n",
    "    else:\n",
    "        # We don't have a birthday book entry for the person\n",
    "        print(\"Unfortunately, we don't know {}'s birthday.\".format(choice))\n",
    "        \n",
    "get_birthday(\"Ethan\", birthday_book)\n",
    "get_birthday(\"Lemon\", birthday_book)"
   ]
  },
  {
   "cell_type": "code",
   "execution_count": 16,
   "metadata": {},
   "outputs": [
    {
     "name": "stdout",
     "output_type": "stream",
     "text": [
      "Benedikt's birthday is August 1.\n",
      "Ethan's birthday is April 29.\n",
      "Jess's birthday is December 10.\n",
      "Madonna Louise Ciccone's birthday is August 16.\n",
      "Stefani Joanne Angelina Germanotta's birthday is March 28.\n"
     ]
    }
   ],
   "source": [
    "# The following function gets a birthday book and prints everyone with their birthdays\n",
    "\n",
    "def get_all_birthdays(birthday_book):\n",
    "    for x in birthday_book.keys():\n",
    "        get_birthday(x, birthday_book)\n",
    "        \n",
    "get_all_birthdays(birthday_book)"
   ]
  },
  {
   "cell_type": "markdown",
   "metadata": {},
   "source": [
    "We have a number of methods to access and change values in a dictionary:\n",
    "* `dictionary[key][value]` gets the `value` of the entry with key `key`, e.g. the birth month (value) of a specific person (their name being the key)\n",
    "* Add a new field using `dictionary[name of value] = value` e.g. `birthday_book[\"someone\"][\"year\"] = 1980`\n",
    "* `clear()` will clear the values from the dictionary\n",
    "* `copy()` returns a copy of the dictionary\n",
    "* `fromkeys()` returns a dictionary with the specified keys and value\n",
    "* `get()` returns the value of the given key\n",
    "* `items()` returns a list containing a tuple for each key:value pair\n",
    "* `keys()` returns a list of all dictionary keys\n",
    "* `pop()` removes the element with the specified key, or the last element if no key is specified\n",
    "* `popitem()` removes the last inserted key:value pair\n",
    "* `setdefault()` returns the value of the specified key, or if it doesn't exist inserts the key with the specified value\n",
    "* `update()` updates the dictionary with the specified key:value pair\n",
    "* `values()` returns a list of all the values in the dictionary"
   ]
  },
  {
   "cell_type": "code",
   "execution_count": null,
   "metadata": {},
   "outputs": [],
   "source": []
  }
 ],
 "metadata": {
  "kernelspec": {
   "display_name": "Python 3",
   "language": "python",
   "name": "python3"
  },
  "language_info": {
   "codemirror_mode": {
    "name": "ipython",
    "version": 3
   },
   "file_extension": ".py",
   "mimetype": "text/x-python",
   "name": "python",
   "nbconvert_exporter": "python",
   "pygments_lexer": "ipython3",
   "version": "3.8.5"
  }
 },
 "nbformat": 4,
 "nbformat_minor": 4
}
