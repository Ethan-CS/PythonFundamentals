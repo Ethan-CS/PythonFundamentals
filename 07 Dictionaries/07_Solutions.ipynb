{
 "cells": [
  {
   "cell_type": "markdown",
   "metadata": {},
   "source": [
    "# 7: Dictionaries Solutions\n",
    "\n",
    "1. Below are two lists, `keys` and `values`. Combine these into a single dictionary.\n",
    "\n",
    "```python\n",
    "keys = ['Ben', 'Ethan', 'Stefani']\n",
    "values = [1, 29, 28]\n",
    "```\n",
    "Expected output:\n",
    "```python\n",
    "{'Ben': 1, 'Ethan': 29, 'Stefani': 28}\n",
    "```\n",
    "_Hint: look up the `zip()` function..._"
   ]
  },
  {
   "cell_type": "code",
   "execution_count": 1,
   "metadata": {},
   "outputs": [
    {
     "name": "stdout",
     "output_type": "stream",
     "text": [
      "{'Ben': 1, 'Ethan': 29, 'Stefani': 28}\n"
     ]
    }
   ],
   "source": [
    "keys = ['Ben', 'Ethan', 'Stefani']\n",
    "values = [1, 29, 28]\n",
    "\n",
    "# Cheat way of doing it - if you thought of a clever way, good on you!\n",
    "my_dict = dict(zip(keys, values))\n",
    "print(my_dict)"
   ]
  },
  {
   "cell_type": "markdown",
   "metadata": {},
   "source": [
    "2. Below are two dictionaries. Merge them into a single dictionary.\n",
    "\n",
    "```python\n",
    "dict1 = {'Ben': 1, 'Ethan': 29}\n",
    "dict2 = {'Stefani': 28, 'Madonna': 16, \"RuPaul\": 17}\n",
    "```\n",
    "Expected output:\n",
    "```python\n",
    "{'Ben': 1, 'Ethan': 29, 'Stefani': 28, 'Madonna': 16, 'RuPaul': 17}\n",
    "```"
   ]
  },
  {
   "cell_type": "code",
   "execution_count": 6,
   "metadata": {},
   "outputs": [
    {
     "name": "stdout",
     "output_type": "stream",
     "text": [
      "{'Ben': 1, 'Ethan': 29, 'Stefani': 28, 'Madonna': 16, 'RuPaul': 17}\n"
     ]
    }
   ],
   "source": [
    "dict1 = {'Ben': 1, 'Ethan': 29}\n",
    "dict2 = {'Stefani': 28, 'Madonna': 16, \"RuPaul\": 17}\n",
    "\n",
    "'''\n",
    "In Python 3.9+, we can use `dict3 = dict1 | dict2`\n",
    "In Python 3.5+ we can use `dict3 = {**dict1, **dict2}`\n",
    "But I'll show you the long, non-cheat way anyway\n",
    "'''\n",
    "\n",
    "def merge_two_dicts(x, y) :\n",
    "    z = x.copy()  # Start with all entries in x\n",
    "    z.update(y)   # Then, add in the entries of y\n",
    "    return z      # Return\n",
    "\n",
    "dict3 = merge_two_dicts(dict1, dict2)\n",
    "print(dict3)"
   ]
  },
  {
   "cell_type": "markdown",
   "metadata": {},
   "source": [
    "3. From the dictionary given below, extract the keys `name` and `salary` and add them to a new dictionary.\n",
    "\n",
    "Dictionary:\n",
    "```python\n",
    "sample_dict = {\n",
    "    \"name\": \"Ethan\",\n",
    "    \"age\": 21,\n",
    "    \"salary\": 1000000,\n",
    "    \"city\": \"Glasgow\"\n",
    "}\n",
    "```\n",
    "Expected output:\n",
    "```python\n",
    "{'name': 'Ethan', 'salary': 1000000}\n",
    "```"
   ]
  },
  {
   "cell_type": "code",
   "execution_count": 14,
   "metadata": {},
   "outputs": [
    {
     "name": "stdout",
     "output_type": "stream",
     "text": [
      "{'name': 'Ethan', 'salary': 1000000}\n"
     ]
    }
   ],
   "source": [
    "sampleDict = { \n",
    "    \"name\": \"Ethan\",\n",
    "    \"age\": 21,\n",
    "    \"salary\": 1000000,\n",
    "    \"city\": \"Glasgow\" \n",
    "}\n",
    "\n",
    "keys = [\"name\", \"salary\"]\n",
    "\n",
    "newDict = {k: sampleDict[k] for k in keys}\n",
    "print(newDict)"
   ]
  },
  {
   "cell_type": "code",
   "execution_count": null,
   "metadata": {},
   "outputs": [],
   "source": []
  }
 ],
 "metadata": {
  "kernelspec": {
   "display_name": "Python 3",
   "language": "python",
   "name": "python3"
  },
  "language_info": {
   "codemirror_mode": {
    "name": "ipython",
    "version": 3
   },
   "file_extension": ".py",
   "mimetype": "text/x-python",
   "name": "python",
   "nbconvert_exporter": "python",
   "pygments_lexer": "ipython3",
   "version": "3.8.5"
  }
 },
 "nbformat": 4,
 "nbformat_minor": 4
}
