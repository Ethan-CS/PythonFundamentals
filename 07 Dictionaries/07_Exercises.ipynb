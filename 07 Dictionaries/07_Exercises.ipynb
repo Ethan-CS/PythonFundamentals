{
 "cells": [
  {
   "cell_type": "markdown",
   "metadata": {},
   "source": [
    "# 7: Dictionaries Exercises\n",
    "\n",
    "1. Below are two lists, `keys` and `values`. Combine these into a single dictionary.\n",
    "\n",
    "```python\n",
    "keys = ['Ben', 'Ethan', 'Stefani']\n",
    "values = [1, 29, 28]\n",
    "```\n",
    "Expected output:\n",
    "```python\n",
    "{'Ben': 1, 'Ethan': 29, 'Stefani': 28}\n",
    "```\n",
    "_Hint: look up the `zip()` function..._"
   ]
  },
  {
   "cell_type": "code",
   "execution_count": 1,
   "metadata": {},
   "outputs": [],
   "source": [
    "# Your solution goes here"
   ]
  },
  {
   "cell_type": "markdown",
   "metadata": {},
   "source": [
    "2. Below are two dictionaries. Merge them into a single dictionary.\n",
    "\n",
    "```python\n",
    "dict1 = {'Ben': 1, 'Ethan': 29}\n",
    "dict2 = {'Stefani': 28, 'Madonna': 16, \"RuPaul\": 17}\n",
    "```\n",
    "Expected output:\n",
    "```python\n",
    "{'Ben': 1, 'Ethan': 29, 'Stefani': 28, 'Madonna': 16, 'RuPaul': 17}\n",
    "```"
   ]
  },
  {
   "cell_type": "code",
   "execution_count": 2,
   "metadata": {},
   "outputs": [],
   "source": [
    "# Your solution goes here"
   ]
  },
  {
   "cell_type": "markdown",
   "metadata": {},
   "source": [
    "3. From the dictionary given below, extract the keys `name` and `salary` and add them to a new dictionary.\n",
    "\n",
    "Dictionary:\n",
    "```python\n",
    "sample_dict = {\n",
    "    \"name\": \"Ethan\",\n",
    "    \"age\": 21,\n",
    "    \"salary\": 1000000,\n",
    "    \"city\": \"Glasgow\"\n",
    "}\n",
    "```\n",
    "Expected output:\n",
    "```python\n",
    "{'name': 'Ethan', 'salary': 1000000}\n",
    "```"
   ]
  },
  {
   "cell_type": "code",
   "execution_count": 3,
   "metadata": {},
   "outputs": [],
   "source": [
    "# Your solution goes here"
   ]
  },
  {
   "cell_type": "code",
   "execution_count": null,
   "metadata": {},
   "outputs": [],
   "source": []
  }
 ],
 "metadata": {
  "kernelspec": {
   "display_name": "Python 3",
   "language": "python",
   "name": "python3"
  },
  "language_info": {
   "codemirror_mode": {
    "name": "ipython",
    "version": 3
   },
   "file_extension": ".py",
   "mimetype": "text/x-python",
   "name": "python",
   "nbconvert_exporter": "python",
   "pygments_lexer": "ipython3",
   "version": "3.8.5"
  }
 },
 "nbformat": 4,
 "nbformat_minor": 4
}
